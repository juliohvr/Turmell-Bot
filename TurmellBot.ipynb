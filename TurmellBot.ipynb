{
 "cells": [
  {
   "cell_type": "markdown",
   "metadata": {},
   "source": [
    "# Turmell-Bot: Designing a Reconfigurable Tendon-Driven Robot for Human Ankle Therapy by Using Screw Theory\n",
    "\n",
    "## Ángel Valera,<sup>1</sup> Julio H. Vargas-Riaño,<sup>1</sup> and Óscar Agudelo-Varela<sup>2</sup>\n",
    "<sup>1</sup> Instituto de Automática e Informática Industrial (ai2), Universitat Politècnica de València, Camino de Vera, s/n,46022, Valencia, Spain.\n",
    "<sup>2</sup> ,Facultad de Ciencias Básicas e Ingeniería, Vereda Barcelona, Km. 12 Vía Puerto López, Villavicencio, Meta, Colombia.\n"
   ]
  },
  {
   "cell_type": "markdown",
   "metadata": {},
   "source": [
    "## Introduction\n",
    "The Turmell-bot is a robot with human centered design. The model is based on the ankle model, antropometry, statistic measurements and proportions. \n",
    "We integrate proportions, and values to obtain a simplified ankle model."
   ]
  },
  {
   "cell_type": "code",
   "execution_count": 1,
   "metadata": {
    "tags": []
   },
   "outputs": [],
   "source": [
    "#Transformation rotation about arbitrary axis\n",
    "from sage.plot.plot3d.transform import rotate_arbitrary\n",
    "#keywords\n",
    "kw = {'aspect_ratio':[1,1,1], 'opacity':0.7, 'frame':False} \n",
    "#x, y, z axes\n",
    "def xyzax(xmin=-1,xmax=1,ymin=-1,ymax=1,zmin=-1,zmax=1):\n",
    "    ex =vector([1,0,0])\n",
    "    ey =vector([0,1,0])\n",
    "    ez =vector([0,0,1])\n",
    "    G =  arrow3d(xmin*ex,xmax*ex,color='red',radius=0.5)\n",
    "    G += arrow3d(ymin*ey,ymax*ey,color='green',radius=0.5)\n",
    "    G += arrow3d(zmin*ez,zmax*ez,color='blue',radius=0.5)\n",
    "    return G\n"
   ]
  },
  {
   "cell_type": "markdown",
   "metadata": {},
   "source": [
    "## Computation of the talocrural direction vector\n",
    "The talocrural and the subtalar axis are computed from the figure 1\n",
    "\n",
    "<img src=\"ankleaxes.svg\" alt=\"ankleaxes\" width=\"400\"/>\n",
    "Figure 1. Subtalar and talocrural axis representation."
   ]
  },
  {
   "cell_type": "markdown",
   "metadata": {},
   "source": [
    "![meanaxis](meanaxis.svg)\n",
    "\n",
    "Figure 2. Mean values for the subtalar axis [Isman & Inman, 1969] https://www.rehab.research.va.gov/jour/69/6/1/97.pdf"
   ]
  },
  {
   "cell_type": "markdown",
   "metadata": {},
   "source": [
    "## Talocrural axis direction"
   ]
  },
  {
   "cell_type": "code",
   "execution_count": 2,
   "metadata": {
    "tags": []
   },
   "outputs": [],
   "source": [
    "#Anthropometric values mean values and standard deviation in degrees \n",
    "#(Isman & Inman, Anthropometric Studies of the Human Foot and Ankle, 1969)\n",
    "#Talocrural direction related to sagittal and transverse planes in degrees.\n",
    "tcm1=-6 #mean value (6=90-84)\n",
    "tcsd1=7 #standard deviation\n",
    "\n",
    "#three values, uncommment one\n",
    "tcm1c=tcm1 #mean only\n",
    "# tcm1c=tcm1+tcsd1 #plus standard deviation\n",
    "# tcm1c=tcm1-tcsd1 #minus standard deviation\n",
    "\n",
    "TCa1=(tcm1c)*(pi/180)\n",
    "\n",
    "tcm2= 80 #mean value\n",
    "tcsd2=4 #standard deviation\n",
    "\n",
    "#three values, uncomment one\n",
    "tcm2c=tcm2 #mean only \n",
    "# tcm2c=tcm2+tcsd2 #plus sd\n",
    "# tcm2c=tcm2-tcsd2  #minus sd\n",
    "\n",
    "TCa2=(tcm2c)*(pi/180)\n",
    "#z unitary vector rotations about x, and z\n",
    "vTC=rotate_arbitrary((0,0,1), TCa1)*rotate_arbitrary((1,0,0), TCa2)*vector([0,0,1])"
   ]
  },
  {
   "cell_type": "markdown",
   "metadata": {},
   "source": [
    "## Subtalar axis direction"
   ]
  },
  {
   "cell_type": "code",
   "execution_count": 3,
   "metadata": {
    "tags": []
   },
   "outputs": [],
   "source": [
    "#Subtalar direction related to sagittal and transverse planes in degrees.\n",
    "stm1=-23 #mean value (-23=0-23)\n",
    "stsd1=11 #standard deviation\n",
    "\n",
    "#three values, uncomment one\n",
    "stm1c=stm1+stsd1 # mean only\n",
    "# stm1c=stm1+stsd1 # plus sd\n",
    "# stm1c=stm1-stsd1 # minus sd\n",
    "\n",
    "STa1=(stm1c)*(pi/180)\n",
    "\n",
    "stm2=41 #mean value\n",
    "stsd2=9 #standard deviation\n",
    "\n",
    "#three values, uncomment one\n",
    "stm2c=stm2 #mean only\n",
    "# stm2c=stm2+stsd2 #plus sd\n",
    "# stm2c=stm2-stsd2 #minus sd\n",
    "\n",
    "STa2=(stm2c)*(pi/180)\n",
    "\n",
    "#x unitary vector rotations about z and y\n",
    "vST=rotate_arbitrary((0,1,0), STa2)*rotate_arbitrary((0,0,1), STa1)*vector([1,0,0])"
   ]
  },
  {
   "cell_type": "markdown",
   "metadata": {},
   "source": [
    "## Mean Anthropometric Distances"
   ]
  },
  {
   "cell_type": "markdown",
   "metadata": {},
   "source": [
    "<img src=\"antthropometricklo.svg\" alt=\"anttrhopometricklo\" width=\"600\"/>\n",
    "Figure 3. K, L, O, and P anthropometric values."
   ]
  },
  {
   "cell_type": "markdown",
   "metadata": {},
   "source": [
    "<img src=\"AnthropometricWQ.svg\" alt=\"AnthropometricWQ\" width=\"400\"/>\n",
    "Figure 4. W and Q anthropometric values."
   ]
  },
  {
   "cell_type": "code",
   "execution_count": 4,
   "metadata": {
    "tags": []
   },
   "outputs": [],
   "source": [
    "#Anthropometric distances in mm.\n",
    "#K value\n",
    "vkm=12\n",
    "vksd=4\n",
    "#tree values, uncomment one\n",
    "vK=vkm\n",
    "#vK=vkm+vksd\n",
    "#vK=vkm-vksd\n",
    "\n",
    "#L value\n",
    "vlm=11\n",
    "vlsd=4\n",
    "#three values, uncomment one\n",
    "vL=vlm\n",
    "#vL=vlm+vlsd\n",
    "#vL=vlm-vlsd\n",
    "\n",
    "#O value\n",
    "vom=16\n",
    "vosd=4\n",
    "# three values\n",
    "vO=vom\n",
    "#vO=vom+vosd\n",
    "#vO=vom-vosd\n",
    "\n",
    "#P value in mm\n",
    "vpm=-1\n",
    "vpsd=5\n",
    "#three values\n",
    "vP=vpm\n",
    "#vP=vpm+vpsd\n",
    "#vP=vpm-vpsd\n",
    "\n",
    "#Q value\n",
    "vqm=5\n",
    "vqsd=3\n",
    "#three values\n",
    "vQ=vqm\n",
    "# vQ=vqm+vqsd\n",
    "# vQ=vqm-vqsd\n",
    "\n",
    "# R value\n",
    "vrm=0.54\n",
    "vrsd=0.06\n",
    "#three values\n",
    "vR=vrm\n",
    "#vR=vrm+vrsd\n",
    "#vR=vrm-vrsd"
   ]
  },
  {
   "cell_type": "markdown",
   "metadata": {},
   "source": [
    "## Base and Platform Dimensions\n",
    "We used anthropometric statistical dimensions from [Fryar et al, 2021] https://pubmed.ncbi.nlm.nih.gov/33541517/.\n",
    "Also, we used proportions from [Drillis & Contini, ] http://edge.rit.edu/edge/P13032/public/FinalDocuments/Detailed%20Analysis/Anthropometric%20Data/Drillis%20%26%20Contini.pdf\n"
   ]
  },
  {
   "cell_type": "code",
   "execution_count": 5,
   "metadata": {
    "scrolled": true,
    "tags": []
   },
   "outputs": [],
   "source": [
    "#(Anthropometric Reference Data for Children and Adults: United States, Fryar et al, Table 11)\n",
    "vh_mean=1753 #height values all races, 20 and over\n",
    "vh_max=1620.8 # 5th percentile\n",
    "vh_min=1870.4 # 95th percentile\n",
    "H=vh_mean\n",
    "#H=vh_min \n",
    "# H=vh_max #heigth in mm\n",
    "d_s=(0.285-0.039)*H/4 #knee-ankle quarter distance\n",
    "d_p=0.039*H #ankle-foot\n",
    "z_p=-(d_s+d_p) # z initial position \n",
    "r_p=(0.055*H)*1.2 # 120% foot heigth platform radius \n",
    "PO=vector([0,0,0]) #Origin at middle shank\n",
    "\n",
    "#initial platform position\n",
    "ae=pi/3\n",
    "A0=vector([-r_p,0,z_p]) \n",
    "B0=vector([r_p*cos(ae),-r_p*sin(ae),z_p])\n",
    "C0=vector([r_p*cos(ae),r_p*sin(ae),z_p])\n",
    "PM0=(A0+B0+C0)/3 #center of the platform\n"
   ]
  },
  {
   "cell_type": "code",
   "execution_count": 6,
   "metadata": {
    "tags": []
   },
   "outputs": [
    {
     "name": "stdout",
     "output_type": "stream",
     "text": [
      "Platform radius:  115.70\n"
     ]
    }
   ],
   "source": [
    "print(\"Platform radius: \",r_p.n(digits=5))"
   ]
  },
  {
   "cell_type": "markdown",
   "metadata": {},
   "source": [
    "The platform's coordinated (local coordinates system) system is aligned with the origin (global coordinate system)."
   ]
  },
  {
   "cell_type": "code",
   "execution_count": 7,
   "metadata": {
    "tags": []
   },
   "outputs": [
    {
     "name": "stdout",
     "output_type": "stream",
     "text": [
      "vector n: (-0.0000, 0.0000, 1.000) vector d: (1.000, 0.0000, 0.0000)\n"
     ]
    }
   ],
   "source": [
    "#normal vector\n",
    "v1p=(B0-A0)\n",
    "v2p=(C0-A0)\n",
    "vn=v1p.cross_product(v2p)/norm(v1p.cross_product(v2p))\n",
    "#direction vector\n",
    "vd=(v1p+v2p)/norm(v1p+v2p)\n",
    "print(\"vector n:\",vn.n(digits=4),\"vector d:\",vd.n(digits=4))"
   ]
  },
  {
   "cell_type": "markdown",
   "metadata": {},
   "source": [
    "## Initial position representation"
   ]
  },
  {
   "cell_type": "code",
   "execution_count": 8,
   "metadata": {
    "tags": []
   },
   "outputs": [
    {
     "name": "stdout",
     "output_type": "stream",
     "text": [
      "Base origin:  (0.00000, 0.00000, 0.00000) Platform origin:  (0.00000, 0.00000, -176.18)\n"
     ]
    }
   ],
   "source": [
    "#marker representation\n",
    "dot=sphere(PO,2,color='red')\n",
    "dot2=sphere(PO,4,color='green')\n",
    "dPO=dot.translate(PO)\n",
    "txo=vector([0,0,5])\n",
    "tPO=text3d(\"PO\", PO+txo, color=(0.5,0,0))\n",
    "dA0=dot.translate(A0)\n",
    "tA0=text3d(\"A0\", A0+txo, color=(0.5,0,0))\n",
    "dB0=dot.translate(B0)\n",
    "tB0=text3d(\"B0\", B0+txo, color=(0.5,0,0))\n",
    "dC0=dot.translate(C0)\n",
    "tC0=text3d(\"C0\", C0+txo, color=(0.5,0,0))\n",
    "dPM0=dot.translate(PM0)\n",
    "tPM0=text3d(\"PM0\", PM0+txo, color=(0.5,0,0))\n",
    "#platform initial position\n",
    "ptf= polygon([A0,B0,C0],color='gray',opacity=0.5)\n",
    "tip=tPO+tA0+tB0+tC0+tPM0\n",
    "dip=dPO+dA0+dB0+dC0+dPM0+ptf+tip\n",
    "# dip.show()\n",
    "print(\"Base origin: \",PO.n(digits=5),\"Platform origin: \",PM0.n(digits=5))\n",
    "# dip.show(viewer='tachyon', \n",
    "#           figsize=[15,15], # the image resolution is 100 figsize \n",
    "#           camera_position=[3, 4, 1], # a distant camera position combined with \n",
    "#           zoom=2, # a large zoom factor will decrease perspective distortion.  \n",
    "#           viewdir=(-2.8,-4,-1.2), # slightly off-center\n",
    "#           frame=false,\n",
    "#           axes = false,\n",
    "#           aspect_ratio=[1,1,1],)"
   ]
  },
  {
   "cell_type": "markdown",
   "metadata": {},
   "source": [
    "## Axis Representation\n",
    "The axis are represented by the points $r_1$ and $\\omega_1$ for the  talocrural axis, and $r_2$, $\\omega_2$ for the subtalar axis. The points $r_1$ and $r_2$ pertain to the sagittal plane, $M_1$ is lateral point and $M_2$ is medial point, computed from the foot's half witdth. The subtalar axis points are computed by dividing the foot's length in four parts."
   ]
  },
  {
   "cell_type": "markdown",
   "metadata": {},
   "source": [
    "### Talocrural axis representation"
   ]
  },
  {
   "cell_type": "code",
   "execution_count": 9,
   "metadata": {
    "tags": []
   },
   "outputs": [
    {
     "name": "stdout",
     "output_type": "stream",
     "text": [
      "foot w: 96.42 foot l: 266.5\n",
      "r_1: (0.00000, 0.00000, -107.81)  M_1: (5.359, -50.99, -116.9)  M_2: (-4.565, 43.44, -100.1)\n"
     ]
    }
   ],
   "source": [
    "r_1=vector([0,0,-d_s]) #intersection point between the talocrural axis and the sagittal plane\n",
    "fw=0.055*H  #foot width proportional to the heigth\n",
    "fl=0.152*H  #foot length\n",
    "\n",
    "#points on the malleolar lateral and medial sectors\n",
    "M_1=r_1-fw*vR*vTC\n",
    "M_2=r_1+fw*(1-vR)*vTC\n",
    "print(\"foot w:\",fw.n(digits=4),\"foot l:\",fl.n(digits=4),)\n",
    "print(\"r_1:\",r_1.n(digits=5),\" M_1:\",M_1.n(digits=4),\" M_2:\",M_2.n(digits=4))"
   ]
  },
  {
   "cell_type": "code",
   "execution_count": 10,
   "metadata": {
    "tags": []
   },
   "outputs": [],
   "source": [
    "#marker representation\n",
    "dr1=dot.translate(r_1)\n",
    "tr1=text3d(\"r1\", r_1+txo, color=(0.5,0,0))\n",
    "dM1=dot.translate(M_1)\n",
    "tM1=text3d(\"M1\", M_1+txo, color=(0.5,0,0))\n",
    "dM2=dot.translate(M_2)\n",
    "tM2=text3d(\"M2\", M_2+txo, color=(0.5,0,0))\n",
    "tca=arrow3d(M_1,M_2,50)\n",
    "ttc=text3d(\"TC Axis\", M_2+2*txo, color=(0.5,0,0))\n",
    "txtc=tr1+tM1+tM2+ttc\n",
    "tcaxis=dr1+dM1+dM2+tca+txtc"
   ]
  },
  {
   "cell_type": "markdown",
   "metadata": {},
   "source": [
    "### Subtalar axis representation"
   ]
  },
  {
   "cell_type": "code",
   "execution_count": 11,
   "metadata": {
    "tags": []
   },
   "outputs": [
    {
     "name": "stdout",
     "output_type": "stream",
     "text": [
      "r_2: (3.2803, 0.00000, -111.58)  N_1: (-95.07, -27.70, -197.1)  N_2: (101.6, 27.70, -26.09)\n"
     ]
    }
   ],
   "source": [
    "#subtalar axis and the sagittal plane intersection \n",
    "thtc=pi/2-STa2\n",
    "vqd=vQ*vector([cos(thtc),0,-sin(thtc)])\n",
    "r_2=r_1 + vqd\n",
    "#points from the hindfoot to the midfoot\n",
    "N_1=r_2-0.5*fl*vST\n",
    "N_2=r_2+0.5*fl*vST\n",
    "print(\"r_2:\",r_2.n(digits=5),\" N_1:\",N_1.n(digits=4),\" N_2:\",N_2.n(digits=4))"
   ]
  },
  {
   "cell_type": "code",
   "execution_count": 12,
   "metadata": {
    "tags": []
   },
   "outputs": [],
   "source": [
    "#markers representation\n",
    "dr2=dot.translate(r_2)\n",
    "tr2=text3d(\"r2\", r_2+txo, color=(0.5,0,0))\n",
    "dN1=dot.translate(N_1)\n",
    "tN1=text3d(\"N1\", N_1+txo, color=(0.5,0,0))\n",
    "dN2=dot.translate(N_2)\n",
    "tN2=text3d(\"N2\", N_2+txo, color=(0.5,0,0))\n",
    "sta=arrow3d(N_1,N_2,50)\n",
    "tst=text3d(\"ST Axis\", N_2+2*txo, color=(0.5,0,0))\n",
    "txst=tr2+tN1+tN2+tst\n",
    "staxis=dr2+dN1+dN2+sta+txst"
   ]
  },
  {
   "cell_type": "code",
   "execution_count": 13,
   "metadata": {
    "tags": []
   },
   "outputs": [],
   "source": [
    "# Both axis\n",
    "gaxis=tcaxis+staxis\n",
    "# Kinematics chain\n",
    "kcn=line3d([PO,r_1,r_2,PM0],radius=2,color='pink')\n",
    "# plus the platform ank kinematics chain\n",
    "gaxis+=dip+kcn\n",
    "# gaxis.show(projection='orthographic')\n",
    "# gaxis.show(viewer='tachyon', \n",
    "#           figsize=[15,15], # the image resolution is 100 figsize \n",
    "#           camera_position=[3, 4, 1], # a distant camera position combined with \n",
    "#           zoom=2.3, # a large zoom factor will decrease perspective distortion.  \n",
    "#           viewdir=(-2.8,-4,-1.1), # slightly off-center\n",
    "#           frame=false,\n",
    "#           axes = false,\n",
    "#           aspect_ratio=[1,1,1],)\n"
   ]
  },
  {
   "cell_type": "markdown",
   "metadata": {},
   "source": [
    "## Exponential Matrix Representation"
   ]
  },
  {
   "cell_type": "code",
   "execution_count": 14,
   "metadata": {
    "tags": []
   },
   "outputs": [
    {
     "name": "stdout",
     "output_type": "stream",
     "text": [
      "omega_1 (-0.103, 0.979, 0.174) omega_2= (0.738, 0.208, 0.642)\n",
      "nu_1 (106., 11.1, 0.000) nu_2= (23.2, -84.5, 0.682)\n"
     ]
    }
   ],
   "source": [
    "#finding the twist unitary vectors \n",
    "w1=(M_2-M_1)/norm(M_2-M_1)\n",
    "w2=(N_2-N_1)/norm(N_2-N_1)\n",
    "#graphical representation\n",
    "grw1=arrow3d(r_1,(r_1+w1*50),radius=1,color='orange')\n",
    "grw2=arrow3d(r_2,(r_2+w2*50),radius=1,color='green')\n",
    "print(\"omega_1\",w1.n(digits=3),\"omega_2=\",w2.n(digits=3))\n",
    "\n",
    "#the perpendicular component\n",
    "v1=-w1.cross_product(r_1)\n",
    "v2=-w2.cross_product(r_2)\n",
    "# normalized\n",
    "v1cp=v1/norm(v1)\n",
    "v2cp=v2/norm(v2)\n",
    "#graphical representation\n",
    "grv1=arrow3d(r_1,(r_1+v1cp*50),radius=1,color='yellow')\n",
    "grv2=arrow3d(r_2,(r_2+v2cp*50),radius=1,color='brown')\n",
    "\n",
    "# all vectors\n",
    "grvt=grw1+grw2+dr1+dr2+kcn #+grv1+grv2\n",
    "\n",
    "print(\"nu_1\",v1.n(digits=3),\"nu_2=\",v2.n(digits=3))\n",
    "#angles for the talocrural and subtalar rotations\n",
    "theta1=var('theta_1')\n",
    "theta2=var('theta_2')"
   ]
  },
  {
   "cell_type": "code",
   "execution_count": 15,
   "metadata": {
    "tags": []
   },
   "outputs": [
    {
     "name": "stdout",
     "output_type": "stream",
     "text": [
      "Intersection projected lines:  0.094310 -0.89730\n"
     ]
    }
   ],
   "source": [
    "# Intersection of the axes projected on the xy plane \n",
    "x,y=var('x,y')\n",
    "P=vector([x,y])\n",
    "lin1=(P[0]-r_1[0])/w1[0]==(P[1]-r_1[1])/w1[1]\n",
    "lin2=(P[0]-r_2[0])/w2[0]==(P[1]-r_2[1])/w2[1]\n",
    "intx=solve([lin1,lin2],x,y)[0][0].rhs()\n",
    "inty=solve([lin1,lin2],x,y)[0][1].rhs()\n",
    "print(\"Intersection projected lines: \",intx.n(digits=5),inty.n(digits=5))"
   ]
  },
  {
   "cell_type": "code",
   "execution_count": 16,
   "metadata": {
    "scrolled": true,
    "tags": []
   },
   "outputs": [],
   "source": [
    "# Rotation axis in a unitary vector and angle in degrees\n",
    "def rot_ax_ang(u,a):\n",
    "    #degrees to radians\n",
    "    alpha=a*pi/180\n",
    "    na=(1-cos(alpha))\n",
    "    ca=cos(alpha)\n",
    "    sa=sin(alpha)\n",
    "    #rotation matrix\n",
    "    R=matrix([[u[0]^2*na+ca, u[0]*u[1]*na-u[2]*sa, u[0]*u[2]*na+u[1]*sa],\n",
    "            [u[0]*u[1]*na+u[2]*sa, u[1]^2*na+ca, u[1]*u[2]*na-u[0]*sa],\n",
    "            [u[2]*u[0]*na-u[1]*sa, u[2]*u[1]*na+u[0]*sa, u[2]^2*na+ca]])\n",
    "    return R\n",
    "#transformation of exponential matrix of rotation\n",
    "Rexp1=rot_ax_ang(w1,theta1)\n",
    "#rotation matrix component of the homogeneous transformation\n",
    "vexp1=(matrix.identity(3)-Rexp1)*(w1.cross_product(v1))\n",
    "\n",
    "#conformation of the homogeneous transformation matrix\n",
    "MTH1=(Rexp1.augment(vexp1)).stack(vector([0,0,0,1]))\n",
    "\n",
    "#components for the subtalar axis\n",
    "Rexp2=rot_ax_ang(w2,theta2)\n",
    "vexp2=(matrix.identity(3)-Rexp2)*(w2.cross_product(v2))\n",
    "MTH2=(Rexp2.augment(vexp2)).stack(vector([0,0,0,1]))\n",
    "\n",
    "#transformation matrix representing the initial position\n",
    "gst0A=matrix([[1,0,0,A0[0]],[0,1,0,A0[1]],[0,0,1,A0[2]],[0,0,0,1]])\n",
    "gst0B=matrix([[1,0,0,B0[0]],[0,1,0,B0[1]],[0,0,1,B0[2]],[0,0,0,1]])\n",
    "gst0C=matrix([[1,0,0,C0[0]],[0,1,0,C0[1]],[0,0,1,C0[2]],[0,0,0,1]])\n",
    "gst0PM=matrix([[1,0,0,PM0[0]],[0,1,0,PM0[1]],[0,0,1,PM0[2]],[0,0,0,1]])\n",
    "\n",
    "#product of exponential matrices for all the points\n",
    "MTHA=MTH1*MTH2*gst0A\n",
    "MTHB=MTH1*MTH2*gst0B\n",
    "MTHC=MTH1*MTH2*gst0C\n",
    "MTHPM=MTH1*MTH2*gst0PM\n",
    "\n",
    "#components of the group of rigid movements for the central point\n",
    "f_xpm=MTHPM[0][3]\n",
    "f_ypm=MTHPM[1][3]\n",
    "f_zpm=MTHPM[2][3]\n",
    "#orthogonal direction vectors\n",
    "f_spm=vector([MTHPM[0][0],MTHPM[1][0],MTHPM[2][0]])\n",
    "f_npm=vector([MTHPM[0][1],MTHPM[1][1],MTHPM[2][1]])\n",
    "f_apm=vector([MTHPM[0][2],MTHPM[1][2],MTHPM[2][2]])\n",
    "\n",
    "#components of the vertices of the plattform\n",
    "f_xA=MTHA[0][3]\n",
    "f_yA=MTHA[1][3]\n",
    "f_zA=MTHA[2][3]\n",
    "f_xB=MTHB[0][3]\n",
    "f_yB=MTHB[1][3]\n",
    "f_zB=MTHB[2][3]\n",
    "f_xC=MTHC[0][3]\n",
    "f_yC=MTHC[1][3]\n",
    "f_zC=MTHC[2][3]\n",
    "# pretty_print(MTHA[2][3].simplify_full().subs(theta_1==180/pi*theta_1,theta_2==180/pi*theta_2))\n",
    "# latex((MTHA[2][3]).simplify_full().subs(theta_1==180/pi*theta_1,theta_2==180/pi*theta_2))\n",
    "# (MTHA[2][3]).simplify_full().subs(theta_1==180/pi*theta_1,theta_2==180/pi*theta_2)"
   ]
  },
  {
   "cell_type": "code",
   "execution_count": 17,
   "metadata": {
    "tags": []
   },
   "outputs": [],
   "source": [
    "#Talocrural rotation (Mann's Surgery of the foot and Ankle, 9th, chapter 1)\n",
    "t1min=-20\n",
    "t1max=20\n",
    "#Subtalar rotation\n",
    "t2min=-15\n",
    "t2max=15\n",
    "dp=30 #data points\n",
    "cpm=parametric_plot3d([f_xpm, f_ypm, f_zpm],(theta_1, t1min, t1max), \n",
    "                        (theta_2, t2min, t2max),plot_points=[dp,dp])\n",
    "cA=parametric_plot3d([f_xA, f_yA, f_zA], (theta_1, t1min, t1max), \n",
    "                       (theta_2, t2min, t2max),plot_points=[dp,dp],texture=\"cyan\")\n",
    "cB=parametric_plot3d([f_xB, f_yB, f_zB], (theta_1, t1min, t1max), \n",
    "                       (theta_2, t2min, t2max),plot_points=[dp,dp],texture=\"magenta\")\n",
    "cC=parametric_plot3d([f_xC, f_yC, f_zC], (theta_1, t1min, t1max), \n",
    "                       (theta_2, t2min, t2max),plot_points=[dp,dp],texture=\"yellow\")\n",
    "\n",
    "#sphere malleolar radius\n",
    "radiusmax = sphere(r_1,0.055*H/2, opacity=0.5,color='pink')\n"
   ]
  },
  {
   "cell_type": "code",
   "execution_count": 18,
   "metadata": {
    "tags": []
   },
   "outputs": [],
   "source": [
    "fkin=cpm+cA+cB+cC+grvt+dip\n",
    "# fkin.show()\n",
    "# fkin.show(viewer='tachyon', \n",
    "#           figsize=[20,20], # the image resolution is 100 figsize \n",
    "#           camera_position=[3, 4, 1], # a distant camera position combined with \n",
    "#           zoom=2.2, # a large zoom factor will decrease perspective distortion.  \n",
    "#           viewdir=(-2.7,-4,-1.1), # slightly off-center\n",
    "#           frame=false,\n",
    "#           axes = false,\n",
    "#           aspect_ratio=[1,1,1],)\n"
   ]
  },
  {
   "cell_type": "markdown",
   "metadata": {},
   "source": [
    "## Left foot representation\n",
    "We introduce the left foot representation by reflecting the right foot referencing points and vectors."
   ]
  },
  {
   "cell_type": "code",
   "execution_count": 19,
   "metadata": {
    "tags": []
   },
   "outputs": [
    {
     "data": {
      "text/html": [
       "<html>\\(\\displaystyle \\verb|reflection|\\verb| |\\verb|matrix:| \\left(\\begin{array}{rrr}\n",
       "1 & 0 & 0 \\\\\n",
       "0 & -1 & 0 \\\\\n",
       "0 & 0 & 1\n",
       "\\end{array}\\right)\\)</html>"
      ],
      "text/latex": [
       "$\\displaystyle \\verb|reflection|\\verb| |\\verb|matrix:| \\left(\\begin{array}{rrr}\n",
       "1 & 0 & 0 \\\\\n",
       "0 & -1 & 0 \\\\\n",
       "0 & 0 & 1\n",
       "\\end{array}\\right)$"
      ],
      "text/plain": [
       "'reflection matrix:' [ 1  0  0]\n",
       "[ 0 -1  0]\n",
       "[ 0  0  1]"
      ]
     },
     "metadata": {},
     "output_type": "display_data"
    }
   ],
   "source": [
    "# Reflected vectors about xz plane (y = 0)\n",
    "#in vector form\n",
    "vj=vector([0,1,0]) #vector normal to xz plane\n",
    "\n",
    "# reflection matrix \n",
    "nj=matrix(3,1,vj) #column vector\n",
    "njt=matrix(1,3,vj) # column vector transposed\n",
    "mrf=matrix.identity(3)-2*nj*njt\n",
    "pretty_print(\"reflection matrix:\",mrf)"
   ]
  },
  {
   "cell_type": "code",
   "execution_count": 20,
   "metadata": {
    "tags": []
   },
   "outputs": [
    {
     "name": "stdout",
     "output_type": "stream",
     "text": [
      "A0 left:  (-115.70, 0.00000, -176.18) B0 left:  (57.849, 100.20, -176.18) C0 left:  (57.849, -100.20, -176.18)\n",
      "M1 left:  (5.3595, 50.992, -116.85) M2 left:  (-4.5655, -43.438, -100.11)\n",
      "N1 left:  (-95.071, 27.700, -197.08) N2 left:  (101.63, -27.700, -26.088)\n",
      "r1 left:  (0.00000, 0.00000, -107.81) r2 left:  (3.2803, 0.00000, -111.58)\n"
     ]
    }
   ],
   "source": [
    "#reference points reflection\n",
    "A0l=mrf*A0\n",
    "B0l=mrf*B0\n",
    "C0l=mrf*C0\n",
    "M_1l=mrf*M_1\n",
    "M_2l=mrf*M_2\n",
    "N_1l=mrf*N_1\n",
    "N_2l=mrf*N_2\n",
    "#r1 and r2 are the same because they are on the sagittal plane\n",
    "r_1l=mrf*r_1\n",
    "r_2l=mrf*r_2\n",
    "print(\"A0 left: \",A0l.n(digits=5),\"B0 left: \",B0l.n(digits=5),\"C0 left: \",C0l.n(digits=5))\n",
    "print(\"M1 left: \",M_1l.n(digits=5),\"M2 left: \",M_2l.n(digits=5))\n",
    "print(\"N1 left: \",N_1l.n(digits=5),\"N2 left: \",N_2l.n(digits=5))\n",
    "print(\"r1 left: \",r_1l.n(digits=5),\"r2 left: \",r_2l.n(digits=5))"
   ]
  },
  {
   "cell_type": "code",
   "execution_count": 21,
   "metadata": {
    "tags": []
   },
   "outputs": [],
   "source": [
    "#graphics left foot representation\n",
    "dM1l=dot.translate(M_1l)\n",
    "tM1l=text3d(\"M1l\", M_1l+txo, color=(0.5,0,0))\n",
    "dM2l=dot.translate(M_2l)\n",
    "tM2l=text3d(\"M2l\", M_2l+txo, color=(0.5,0,0))\n",
    "dN1l=dot.translate(N_1l)\n",
    "tN1l=text3d(\"N1l\", N_1l+txo, color=(0.5,0,0))\n",
    "dN2l=dot.translate(N_2l)\n",
    "tN2l=text3d(\"N2l\", N_2l+txo, color=(0.5,0,0))\n",
    "dA0l=dot.translate(A0l)\n",
    "tA0l=text3d(\"A0l\", A0l+txo, color=(0.5,0,0))\n",
    "dB0l=dot.translate(B0l)\n",
    "tB0l=text3d(\"B0l\", B0l+txo, color=(0.5,0,0))\n",
    "dC0l=dot.translate(C0l)\n",
    "tC0l=text3d(\"C0l\", C0l+txo, color=(0.5,0,0))\n",
    "\n",
    "#platform left initial position\n",
    "ptfl= polygon([A0l,B0l,C0l],color='gray',opacity=1)\n",
    "tipl=tPO+tA0l+tB0l+tC0l #text\n",
    "dipl=dPO+dA0l+dB0l+dC0l+ptfl+tipl #points\n",
    "# dipl.show()"
   ]
  },
  {
   "cell_type": "code",
   "execution_count": 22,
   "metadata": {
    "tags": []
   },
   "outputs": [],
   "source": [
    "#axis left\n",
    "tcal=arrow3d(M_1l,M_2l,50)\n",
    "ttcl=text3d(\"TC Axis left\", M_2l+2*txo, color=(0.5,0,0))\n",
    "txtcl=tr1+tM1l+tM2l+ttcl\n",
    "tcaxisl=dr1+dM1l+dM2l+tcal+txtcl\n",
    "stal=arrow3d(N_1l,N_2l,50)\n",
    "tstl=text3d(\"ST Axis left\", N_2l+2*txo, color=(0.5,0,0))\n",
    "txstl=tr2+tN1l+tN2l+tstl\n",
    "staxisl=dr2+dN1l+dN2l+stal+txstl\n",
    "# Both axis\n",
    "gaxisl=tcaxisl+staxisl\n",
    "# gaxisl.show()"
   ]
  },
  {
   "cell_type": "markdown",
   "metadata": {},
   "source": [
    "We don't have to recompute all the group of movements, reflecting the points and plotting gives us the left foot data."
   ]
  },
  {
   "cell_type": "code",
   "execution_count": 23,
   "metadata": {
    "tags": []
   },
   "outputs": [],
   "source": [
    "#components of the vertices of the plattform\n",
    "Al=mrf*vector([f_xA, f_yA, f_zA])\n",
    "cAl=parametric_plot3d(Al, (theta_1, t1min, t1max), \n",
    "                       (theta_2, t2min, t2max),plot_points=[dp,dp],texture=\"cyan\")\n",
    "Bl=mrf*vector([f_xB, f_yB, f_zB])\n",
    "cBl=parametric_plot3d(Bl, (theta_1, t1min, t1max), \n",
    "                       (theta_2, t2min, t2max),plot_points=[dp,dp],texture=\"magenta\")\n",
    "Cl=mrf*vector([f_xC, f_yC, f_zC])\n",
    "cCl=parametric_plot3d(Cl, (theta_1, t1min, t1max), \n",
    "                       (theta_2, t2min, t2max),plot_points=[dp,dp],texture=\"yellow\")"
   ]
  },
  {
   "cell_type": "code",
   "execution_count": 24,
   "metadata": {
    "tags": []
   },
   "outputs": [],
   "source": [
    "# Plotting the group of movements, the axis and the platform and the kinematic chain\n",
    "fkinl=cAl+cBl+cCl+gaxisl+dipl+kcn\n",
    "# fkinl.show()\n",
    "# fkinl.show(viewer='tachyon', \n",
    "#           figsize=[20,20], # the image resolution is 100 figsize \n",
    "#           camera_position=[3, 4, 1], # a distant camera position combined with \n",
    "#           zoom=2.2, # a large zoom factor will decrease perspective distortion.  \n",
    "#           viewdir=(-2.8,-4,-1.1), # slightly off-center\n",
    "#           updir=(0,0,1), #the camera is slightly tilted\n",
    "#           frame=false,\n",
    "#           axes = false,\n",
    "#           aspect_ratio=[1,1,1],)"
   ]
  },
  {
   "cell_type": "markdown",
   "metadata": {},
   "source": [
    "## Base representation\n",
    "The base must be greater than the platform for avoiding collision with the body, represented by a sphere with radius equal to the foot width, centered on $r_1$"
   ]
  },
  {
   "cell_type": "code",
   "execution_count": 25,
   "metadata": {
    "tags": []
   },
   "outputs": [
    {
     "name": "stdout",
     "output_type": "stream",
     "text": [
      "Platform radius: 115.7 Base radius: 150.4 Module radius: 30.00\n",
      "Base A:  (-150.4, 0.0000, 0.0000) Base B:  (75.20, -130.3, 0.0000) Base C:  (75.20, 130.3, 0.0000)\n",
      "Sensor 1:  (30.00, 0.0000, 0.0000) Sensor 2:  (-15.00, 25.98, 0.0000) Sensor 3:  (-15.00, -25.98, 0.0000)\n"
     ]
    }
   ],
   "source": [
    "#base must be greater than the base for avoid collision with the body\n",
    "r_b=1.3*r_p\n",
    "Ab=vector([-r_b,0,0]) \n",
    "Bb=vector([r_b*cos(ae),-r_b*sin(ae),0])\n",
    "Cb=vector([r_b*cos(ae),r_b*sin(ae),0])\n",
    "basep= polygon([Ab,Bb,Cb],color='green',opacity=0.3)\n",
    "# sensor modules translated to the vertices\n",
    "r_m=30\n",
    "ds1=vector([r_m,0,0])\n",
    "ds2=vector([-r_m*cos(ae),r_m*sin(ae),0])\n",
    "ds3=vector([-r_m*cos(ae),-r_m*sin(ae),0])\n",
    "\n",
    "print(\"Platform radius:\",r_p.n(digits=4),\"Base radius:\",r_b.n(digits=4),\"Module radius:\",r_m.n(digits=4))\n",
    "print(\"Base A: \",Ab.n(digits=4),\"Base B: \",Bb.n(digits=4),\"Base C: \",Cb.n(digits=4))\n",
    "print(\"Sensor 1: \",ds1.n(digits=4),\"Sensor 2: \",ds2.n(digits=4),\"Sensor 3: \",ds3.n(digits=4))"
   ]
  },
  {
   "cell_type": "code",
   "execution_count": 26,
   "metadata": {
    "tags": []
   },
   "outputs": [
    {
     "name": "stdout",
     "output_type": "stream",
     "text": [
      "Point 1A:  (-120.4, 0.0000, 0.0000) Point 2A:  (-165.4, 25.98, 0.0000) Point 3A:  (-165.4, -25.98, 0.0000)\n"
     ]
    }
   ],
   "source": [
    "#module A\n",
    "ds1A=ds1+Ab\n",
    "ds2A=ds2+Ab\n",
    "ds3A=ds3+Ab\n",
    "ps1A=dot.translate(ds1A)\n",
    "ps2A=dot.translate(ds2A)\n",
    "ps3A=dot.translate(ds3A)\n",
    "mdA=polygon([ds1A,ds2A,ds3A],opacity=0.3)+ps1A+ps2A+ps3A\n",
    "print(\"Point 1A: \",ds1A.n(digits=4),\"Point 2A: \",ds2A.n(digits=4),\"Point 3A: \",ds3A.n(digits=4))"
   ]
  },
  {
   "cell_type": "code",
   "execution_count": 27,
   "metadata": {
    "tags": []
   },
   "outputs": [
    {
     "name": "stdout",
     "output_type": "stream",
     "text": [
      "Point 1B:  (105.2, -130.3, 0.0000) Point 2B:  (60.20, -104.3, 0.0000) Point 3B:  (60.20, -156.2, 0.0000)\n"
     ]
    }
   ],
   "source": [
    "#module B\n",
    "ds1B=ds1+Bb\n",
    "ds2B=ds2+Bb\n",
    "ds3B=ds3+Bb\n",
    "ps1B=dot.translate(ds1B)\n",
    "ps2B=dot.translate(ds2B)\n",
    "ps3B=dot.translate(ds3B)\n",
    "mdB=polygon([ds1B,ds2B,ds3B],opacity=0.3)+ps1B+ps2B+ps3B\n",
    "print(\"Point 1B: \",ds1B.n(digits=4),\"Point 2B: \",ds2B.n(digits=4),\"Point 3B: \",ds3B.n(digits=4))"
   ]
  },
  {
   "cell_type": "code",
   "execution_count": 28,
   "metadata": {
    "tags": []
   },
   "outputs": [
    {
     "name": "stdout",
     "output_type": "stream",
     "text": [
      "Point 1C:  (105.2, 130.3, 0.0000) Point 2C:  (60.20, 156.2, 0.0000) Point 3C:  (60.20, 104.3, 0.0000)\n"
     ]
    }
   ],
   "source": [
    "#Module C\n",
    "ds1C=ds1+Cb\n",
    "ds2C=ds2+Cb\n",
    "ds3C=ds3+Cb\n",
    "ps1C=dot.translate(ds1C)\n",
    "ps2C=dot.translate(ds2C)\n",
    "ps3C=dot.translate(ds3C)\n",
    "mdC=polygon([ds1C,ds2C,ds3C],opacity=0.3)+ps1C+ps2C+ps3C\n",
    "print(\"Point 1C: \",ds1C.n(digits=4),\"Point 2C: \",ds2C.n(digits=4),\"Point 3C: \",ds3C.n(digits=4))"
   ]
  },
  {
   "cell_type": "code",
   "execution_count": 29,
   "metadata": {
    "tags": []
   },
   "outputs": [],
   "source": [
    "#base plot\n",
    "gbase=basep+mdA+mdB+mdC\n",
    "#add to kinematic model\n",
    "baskin=fkin+gbase\n",
    "# baskin.show()\n",
    "# baskin.show(viewer='tachyon', \n",
    "#           figsize=[20,20], # the image resolution is 100 figsize \n",
    "#           camera_position=[3, 4, 1.5], # a distant camera position combined with \n",
    "#           zoom=2.6, # a large zoom factor will decrease perspective distortion.  \n",
    "#           viewdir=(-2.7,-3.9,-1.5), # slightly off-center\n",
    "#           frame=false,\n",
    "#           axes = false,\n",
    "#           aspect_ratio=[1,1,1],)"
   ]
  },
  {
   "cell_type": "markdown",
   "metadata": {},
   "source": [
    "## Sensor Lengths and Position\n",
    "for validation we compute the sensor lenghts in the initial position, the lengt for each sensor is $l_{s1A}=\\| A_0-d_{s1A} \\|$"
   ]
  },
  {
   "cell_type": "code",
   "execution_count": 30,
   "metadata": {
    "tags": []
   },
   "outputs": [
    {
     "name": "stdout",
     "output_type": "stream",
     "text": [
      "Lenght l1A: 176.2 Lenght l2A: 184.9 Lenght l3A: 184.9\n"
     ]
    }
   ],
   "source": [
    "#sensor lengths at the initial positon\n",
    "# module A\n",
    "ls1A=norm(A0-ds1A)\n",
    "ls2A=norm(A0-ds2A)\n",
    "ls3A=norm(A0-ds3A)\n",
    "# graphics\n",
    "gs1A=line3d([ds1A,A0],color='gray', size=1)\n",
    "gs2A=line3d([ds2A,A0],color='gray', size=1)\n",
    "gs3A=line3d([ds3A,A0],color='gray', size=1)\n",
    "gmA0=gs1A+gs2A+gs3A\n",
    "print(\"Lenght l1A:\", ls1A.n(digits=4),\"Lenght l2A:\", ls2A.n(digits=4), \"Lenght l3A:\",ls3A.n(digits=4))"
   ]
  },
  {
   "cell_type": "code",
   "execution_count": 31,
   "metadata": {
    "tags": []
   },
   "outputs": [
    {
     "name": "stdout",
     "output_type": "stream",
     "text": [
      "Lenght l1B: 184.9 Lenght l2B: 176.2 Lenght l3B: 184.9\n"
     ]
    }
   ],
   "source": [
    "#module B\n",
    "ls1B=norm(B0-ds1B)\n",
    "ls2B=norm(B0-ds2B)\n",
    "ls3B=norm(B0-ds3B)\n",
    "# graphics\n",
    "gs1B=line3d([ds1B,B0],color='gray', size=1)\n",
    "gs2B=line3d([ds2B,B0],color='gray', size=1)\n",
    "gs3B=line3d([ds3B,B0],color='gray', size=1)\n",
    "gmB0=gs1B+gs2B+gs3B\n",
    "print(\"Lenght l1B:\", ls1B.n(digits=4),\"Lenght l2B:\", ls2B.n(digits=4), \"Lenght l3B:\",ls3B.n(digits=4))"
   ]
  },
  {
   "cell_type": "code",
   "execution_count": 32,
   "metadata": {
    "tags": []
   },
   "outputs": [
    {
     "name": "stdout",
     "output_type": "stream",
     "text": [
      "Lenght l1C: 184.9 Lenght l2C: 184.9 Lenght l3C: 176.2\n"
     ]
    }
   ],
   "source": [
    "#module C\n",
    "ls1C=norm(C0-ds1C)\n",
    "ls2C=norm(C0-ds2C)\n",
    "ls3C=norm(C0-ds3C)\n",
    "# graphics\n",
    "gs1C=line3d([ds1C,C0],color='gray', size=1)\n",
    "gs2C=line3d([ds2C,C0],color='gray', size=1)\n",
    "gs3C=line3d([ds3C,C0],color='gray', size=1)\n",
    "gmC0=gs1C+gs2C+gs3C\n",
    "print(\"Lenght l1C:\", ls1C.n(digits=4),\"Lenght l2C:\", ls2C.n(digits=4), \"Lenght l3C:\",ls3C.n(digits=4))"
   ]
  },
  {
   "cell_type": "markdown",
   "metadata": {},
   "source": [
    "Graphic representation for the sensor lenghts at the initial position"
   ]
  },
  {
   "cell_type": "code",
   "execution_count": 33,
   "metadata": {
    "tags": []
   },
   "outputs": [],
   "source": [
    "grsl=gmA0+gmB0+gmC0+baskin\n",
    "# grsl.show()\n",
    "# grsl.show(viewer='tachyon', \n",
    "#           figsize=[20,20], # the image resolution is 100 figsize \n",
    "#           camera_position=[3, 4, 1.5], # a distant camera position combined with \n",
    "#           zoom=2.6, # a large zoom factor will decrease perspective distortion.  \n",
    "#           viewdir=(-2.7,-3.9,-1.5), # slightly off-center\n",
    "#           frame=false,\n",
    "#           axes = false,\n",
    "#           aspect_ratio=[1,1,1],)"
   ]
  },
  {
   "cell_type": "markdown",
   "metadata": {},
   "source": [
    "Function for computing the relative position from the lenghts"
   ]
  },
  {
   "cell_type": "code",
   "execution_count": 34,
   "metadata": {
    "tags": []
   },
   "outputs": [],
   "source": [
    "def pos(l_1,l_2,l_3):\n",
    "    ys = -1/6*sqrt(3)*(l_2^2 - l_3^2)/r_m\n",
    "    xs = -1/6*(2*l_1^2 - l_2^2 - l_3^2)/r_m\n",
    "    zs =-1/3*sqrt(-l_1^4 + l_1^2*l_2^2 - l_2^4 - l_3^4 - 9*r_m^4 \n",
    "                  + (l_1^2 + l_2^2)*l_3^2 + 3*(l_1^2 + l_2^2 + l_3^2)*r_m^2)/r_m\n",
    "    vsol=vector([xs,ys,zs])\n",
    "    return vsol"
   ]
  },
  {
   "cell_type": "code",
   "execution_count": 35,
   "metadata": {
    "tags": []
   },
   "outputs": [
    {
     "name": "stdout",
     "output_type": "stream",
     "text": [
      "Original A0: (-115.70, 0.00000, -176.18) B0: (57.849, -100.20, -176.18) C0: (57.849, 100.20, -176.18)\n",
      "Estimation A0: (-115.70, -0.00000, -176.18) B0: (57.849, -100.20, -176.18) C0: (57.849, 100.20, -176.18)\n"
     ]
    }
   ],
   "source": [
    "sA0=pos(ls1A,ls2A,ls3A)+Ab\n",
    "sB0=pos(ls1B,ls2B,ls3B)+Bb\n",
    "sC0=pos(ls1C,ls2C,ls3C)+Cb\n",
    "\n",
    "print(\"Original\", \"A0:\", A0.n(digits=5),\"B0:\",B0.n(digits=5),\"C0:\",C0.n(digits=5))\n",
    "print(\"Estimation\", \"A0:\", sA0.n(digits=5),\"B0:\",sB0.n(digits=5),\"C0:\",sC0.n(digits=5))"
   ]
  },
  {
   "cell_type": "markdown",
   "metadata": {},
   "source": [
    "## Trajectory generation\n",
    "Trajectories generated from the ankle model. Plantarflexion, dorsiflexion, inversion and eversion cases."
   ]
  },
  {
   "cell_type": "code",
   "execution_count": 36,
   "metadata": {
    "tags": []
   },
   "outputs": [],
   "source": [
    "# number of sample values\n",
    "nvl=50\n",
    "# Generating trajectories for talocrural axis\n",
    "degrange=t1max-t1min\n",
    "ins=degrange/(nvl-1)\n",
    "t2ka=MTH1*gst0A\n",
    "t2kb=MTH1*gst0B\n",
    "t2kc=MTH1*gst0C"
   ]
  },
  {
   "cell_type": "code",
   "execution_count": 37,
   "metadata": {
    "tags": []
   },
   "outputs": [],
   "source": [
    "#function for A\n",
    "def ty_A(i,j):\n",
    "    sv=i*ins+t1min\n",
    "    if j==0 :\n",
    "        return t2ka[0][3].subs(theta_1=sv).n(digits=5)\n",
    "    if j==1 :\n",
    "        return t2ka[1][3].subs(theta_1=sv).n(digits=5)\n",
    "    if j==2 :\n",
    "        return t2ka[2][3].subs(theta_1=sv).n(digits=5)\n",
    "mtyA=matrix(nvl,3,lambda i, j:ty_A(i,j))\n",
    "# graphics trajectory A\n",
    "grtyA=line3d(mtyA, color= 'cyan')"
   ]
  },
  {
   "cell_type": "code",
   "execution_count": 38,
   "metadata": {
    "tags": []
   },
   "outputs": [],
   "source": [
    "#function for B\n",
    "def ty_B(i,j):\n",
    "    sv=i*ins+t1min\n",
    "    if j==0 :\n",
    "        return t2kb[0][3].subs(theta_1=sv).n(digits=5)\n",
    "    if j==1 :\n",
    "        return t2kb[1][3].subs(theta_1=sv).n(digits=5)\n",
    "    if j==2 :\n",
    "        return t2kb[2][3].subs(theta_1=sv).n(digits=5)\n",
    "mtyB=matrix(nvl,3,lambda i, j:ty_B(i,j))\n",
    "# graphics trajectory B\n",
    "grtyB=line3d(mtyB,color='magenta')"
   ]
  },
  {
   "cell_type": "code",
   "execution_count": 39,
   "metadata": {
    "tags": []
   },
   "outputs": [],
   "source": [
    "#function for C\n",
    "def ty_C(i,j):\n",
    "    sv=i*ins+t1min\n",
    "    if j==0 :\n",
    "        return t2kc[0][3].subs(theta_1=sv).n(digits=5)\n",
    "    if j==1 :\n",
    "        return t2kc[1][3].subs(theta_1=sv).n(digits=5)\n",
    "    if j==2 :\n",
    "        return t2kc[2][3].subs(theta_1=sv).n(digits=5)\n",
    "mtyC=matrix(nvl,3,lambda i, j:ty_C(i,j))\n",
    "# graphics trajectory C\n",
    "grtyC=line3d(mtyC, color ='yellow')"
   ]
  },
  {
   "cell_type": "code",
   "execution_count": 40,
   "metadata": {
    "tags": []
   },
   "outputs": [],
   "source": [
    "galty = grtyA+grtyB+grtyC+gbase+grvt+dip\n",
    "# galty.show()\n",
    "# galty.show(viewer='tachyon', \n",
    "#           figsize=[20,20], # the image resolution is 100 figsize \n",
    "#           camera_position=[3, 4, 1.5], # a distant camera position combined with \n",
    "#           zoom=2.6, # a large zoom factor will decrease perspective distortion.  \n",
    "#           viewdir=(-2.7,-3.9,-1.5), # slightly off-center\n",
    "#           frame=false,\n",
    "#           axes = false,\n",
    "#           aspect_ratio=[1,1,1],)"
   ]
  },
  {
   "cell_type": "code",
   "execution_count": 41,
   "metadata": {
    "tags": []
   },
   "outputs": [],
   "source": [
    "#Generating trajectories for subtalar axis\n",
    "t2max=15\n",
    "t2min=-15\n",
    "degrange2=t2max-t2min\n",
    "ins2=degrange2/(nvl-1)\n",
    "t1ka=MTH2*gst0A\n",
    "t1kb=MTH2*gst0B\n",
    "t1kc=MTH2*gst0C\n"
   ]
  },
  {
   "cell_type": "code",
   "execution_count": 42,
   "metadata": {
    "tags": []
   },
   "outputs": [],
   "source": [
    "#function for A\n",
    "def ty_A2(i,j):\n",
    "    sv=i*ins2+t2min\n",
    "    if j==0 :\n",
    "        return t1ka[0][3].subs(theta_2=sv).n(digits=5)\n",
    "    if j==1 :\n",
    "        return t1ka[1][3].subs(theta_2=sv).n(digits=5)\n",
    "    if j==2 :\n",
    "        return t1ka[2][3].subs(theta_2=sv).n(digits=5)\n",
    "mtyA2=matrix(nvl,3,lambda i, j:ty_A2(i,j))\n",
    "# graphics trajectory A\n",
    "grtyA2=line3d(mtyA2, color= 'cyan')"
   ]
  },
  {
   "cell_type": "code",
   "execution_count": 43,
   "metadata": {
    "tags": []
   },
   "outputs": [],
   "source": [
    "#function for B\n",
    "def ty_B2(i,j):\n",
    "    sv=i*ins2+t2min\n",
    "    if j==0 :\n",
    "        return t1kb[0][3].subs(theta_2=sv).n(digits=5)\n",
    "    if j==1 :\n",
    "        return t1kb[1][3].subs(theta_2=sv).n(digits=5)\n",
    "    if j==2 :\n",
    "        return t1kb[2][3].subs(theta_2=sv).n(digits=5)\n",
    "mtyB2=matrix(nvl,3,lambda i, j:ty_B2(i,j))\n",
    "# graphics trajectory B\n",
    "grtyB2=line3d(mtyB2,color='magenta')"
   ]
  },
  {
   "cell_type": "code",
   "execution_count": 44,
   "metadata": {
    "tags": []
   },
   "outputs": [],
   "source": [
    "#function for C\n",
    "def ty_C2(i,j):\n",
    "    sv=i*ins2+t2min\n",
    "    if j==0 :\n",
    "        return t1kc[0][3].subs(theta_2=sv).n(digits=5)\n",
    "    if j==1 :\n",
    "        return t1kc[1][3].subs(theta_2=sv).n(digits=5)\n",
    "    if j==2 :\n",
    "        return t1kc[2][3].subs(theta_2=sv).n(digits=5)\n",
    "mtyC2=matrix(nvl,3,lambda i, j:ty_C2(i,j))\n",
    "# graphics trajectory C\n",
    "grtyC2=line3d(mtyC2, color ='orange')"
   ]
  },
  {
   "cell_type": "code",
   "execution_count": 45,
   "metadata": {
    "tags": []
   },
   "outputs": [],
   "source": [
    "galty2 = grtyA2+grtyB2+grtyC2+grw2+dip+kcn\n",
    "# galty2.show()\n",
    "# galty2.show(viewer='tachyon', \n",
    "#           figsize=[20,20], # the image resolution is 100 figsize \n",
    "#           camera_position=[3, 4, 1.4], # a distant camera position combined with \n",
    "#           zoom=2.3, # a large zoom factor will decrease perspective distortion.  \n",
    "#           viewdir=(-2.7,-4,-1.6), # slightly off-center\n",
    "#           frame=false,\n",
    "#           axes = false,\n",
    "#           aspect_ratio=[1,1,1],)"
   ]
  },
  {
   "cell_type": "code",
   "execution_count": 46,
   "metadata": {
    "tags": []
   },
   "outputs": [],
   "source": [
    "# Trajectory A for talocrural fitting\n",
    "galtyA = grtyA+grw1+kcn+dip\n",
    "# galtyA.show()\n",
    "# galtyA.show(viewer='tachyon', \n",
    "#           figsize=[20,20], # the image resolution is 100 figsize \n",
    "#           camera_position=[3, 4, 1.5], # a distant camera position combined with \n",
    "#           zoom=2.2, # a large zoom factor will decrease perspective distortion.  \n",
    "#           viewdir=(-2.7,-3.9,-1.6), # slightly off-center\n",
    "#           frame=false,\n",
    "#           axes = false,\n",
    "#           aspect_ratio=[1,1,1],)"
   ]
  },
  {
   "cell_type": "code",
   "execution_count": 47,
   "metadata": {
    "tags": []
   },
   "outputs": [],
   "source": [
    "# Trajectory A for talocrural fitting\n",
    "galtyB = grtyB+grw1+kcn+dip\n",
    "# galtyB.show()\n",
    "# galtyB.show(viewer='tachyon', \n",
    "#           figsize=[20,20], # the image resolution is 100 figsize \n",
    "#           camera_position=[3, 4, 1.6], # a distant camera position combined with \n",
    "#           zoom=2.2, # a large zoom factor will decrease perspective distortion.  \n",
    "#           viewdir=(-2.7,-4,-1.8), # slightly off-center\n",
    "#           frame=false,\n",
    "#           axes = false,\n",
    "#           aspect_ratio=[1,1,1],)"
   ]
  },
  {
   "cell_type": "code",
   "execution_count": 48,
   "metadata": {
    "tags": []
   },
   "outputs": [],
   "source": [
    "# Trajectory A for talocrural fitting\n",
    "galtyC = grtyC+grw1+kcn+dip\n",
    "# galtyC.show()\n",
    "# galtyC.show(viewer='tachyon', \n",
    "#           figsize=[20,20], # the image resolution is 100 figsize \n",
    "#           camera_position=[3, 4, 1.6], # a distant camera position combined with \n",
    "#           zoom=2.2, # a large zoom factor will decrease perspective distortion.  \n",
    "#           viewdir=(-2.7,-4,-1.8), # slightly off-center\n",
    "#           frame=false,\n",
    "#           axes = false,\n",
    "#           aspect_ratio=[1,1,1],)"
   ]
  },
  {
   "cell_type": "code",
   "execution_count": 49,
   "metadata": {
    "scrolled": true,
    "tags": []
   },
   "outputs": [],
   "source": [
    "#select one trajectory for the talocrural axis\n",
    "tys=mtyA\n",
    "# tys=mtyB\n",
    "# tys=mtyC"
   ]
  },
  {
   "cell_type": "code",
   "execution_count": 50,
   "metadata": {
    "tags": []
   },
   "outputs": [],
   "source": [
    "#select one trajectory for the subtalar axis\n",
    "# tys=mtyA2\n",
    "# tys=mtyB2\n",
    "# tys=mtyC2"
   ]
  },
  {
   "cell_type": "markdown",
   "metadata": {},
   "source": [
    "## Least square method for the plane estimation\n",
    "We created the matrix A and B for the normal axis estimation."
   ]
  },
  {
   "cell_type": "code",
   "execution_count": 51,
   "metadata": {
    "tags": []
   },
   "outputs": [],
   "source": [
    "#matrix A and vector B from the trajectories data\n",
    "tys01=tys.delete_columns([2])\n",
    "vcones=ones_matrix(nvl,1)\n",
    "# matrix A and B for the plane vector normal estimation\n",
    "mAp=tys01.augment(vcones)\n",
    "vBp=vector(tys.delete_columns([0,1]))"
   ]
  },
  {
   "cell_type": "code",
   "execution_count": 52,
   "metadata": {
    "tags": []
   },
   "outputs": [
    {
     "name": "stdout",
     "output_type": "stream",
     "text": [
      "Normal vector: (-592.75, 5640.2, 1000.0)\n",
      "Unitary normal vector: (-0.10293, 0.97941, 0.17365)\n"
     ]
    }
   ],
   "source": [
    "#finding a, b and d\n",
    "psAp=mAp.pseudoinverse()\n",
    "sabd=psAp*vBp\n",
    "aval=sabd[0]\n",
    "bval=sabd[1]\n",
    "dval=sabd[2]\n",
    "# selecting C=-1000 for numerical precision\n",
    "#unitary normal vector to plane\n",
    "npl = vector([aval, bval, -1])*(-1000)\n",
    "nsu=npl/norm(npl)\n",
    "print(\"Normal vector:\",npl)\n",
    "print(\"Unitary normal vector:\",nsu)"
   ]
  },
  {
   "cell_type": "code",
   "execution_count": 53,
   "metadata": {
    "tags": []
   },
   "outputs": [
    {
     "name": "stdout",
     "output_type": "stream",
     "text": [
      "angle: 80.000 axis: (0.99452, 0.10452, -0.00000)\n"
     ]
    }
   ],
   "source": [
    "#angle and axis with XY plane\n",
    "vz=vector([0,0,1000])\n",
    "dprod=(npl.dot_product(vz))/(norm(npl)*norm(vz))\n",
    "arot=acos(dprod)\n",
    "cprod=npl.cross_product(vz)\n",
    "rvec=cprod/norm(cprod)\n",
    "print(\"angle:\",(arot*180/pi).n(digits=5),\"axis:\",rvec)"
   ]
  },
  {
   "cell_type": "code",
   "execution_count": 54,
   "metadata": {
    "tags": []
   },
   "outputs": [],
   "source": [
    "#Rotate the trajectory points\n",
    "tysr=matrix(rot_ax_ang(rvec,arot*180/pi)*tys[i] for i in range(nvl))"
   ]
  },
  {
   "cell_type": "code",
   "execution_count": 55,
   "metadata": {
    "tags": []
   },
   "outputs": [],
   "source": [
    "#generate the matrix and vector for the circle estimation\n",
    "tysr01=tysr.delete_columns([2])\n",
    "mAc=tysr01.augment(vcones)\n",
    "vBc=vector([tysr[i,0]*tysr[i,0] + tysr[i,1]*tysr[i,1] for i in range(nvl)])\n",
    "#approximation\n",
    "psAc=mAc.pseudoinverse()\n",
    "chi=psAc*vBc"
   ]
  },
  {
   "cell_type": "code",
   "execution_count": 56,
   "metadata": {
    "tags": []
   },
   "outputs": [
    {
     "name": "stdout",
     "output_type": "stream",
     "text": [
      "center parallel to xy:  (-9.754, 105.4, -18.68) radius:  135.3\n"
     ]
    }
   ],
   "source": [
    "import numpy\n",
    "#substituting to the coordinates and centre\n",
    "xc,yc,zx,rc=var('xc,yc,zc,rc')\n",
    "eqc1=2*xc==chi[0]\n",
    "eqc2=2*yc==chi[1]\n",
    "eqc3=rc^2-xc^2-yc^2==chi[2]\n",
    "slnc=solve([eqc1,eqc2,eqc3],[rc,xc,yc])\n",
    "tcr=slnc[0][0].rhs().n()\n",
    "tcxc=slnc[0][1].rhs().n()\n",
    "tcyc=slnc[0][2].rhs().n()\n",
    "#averaging the z component of the plane parallel to xy\n",
    "tczc=numpy.mean(tysr.delete_columns([0,1]))\n",
    "crot=vector([tcxc,tcyc,tczc])\n",
    "print(\"center parallel to xy: \",crot.n(digits=4),\"radius: \",tcr.n(digits=4))"
   ]
  },
  {
   "cell_type": "code",
   "execution_count": 57,
   "metadata": {
    "tags": []
   },
   "outputs": [],
   "source": [
    "#defining the parametric circle \n",
    "uvpr=rvec\n",
    "vvpr=(vz.cross_product(uvpr))/norm(vz.cross_product(uvpr))\n",
    "t=var('t')\n",
    "cirpar=crot+tcr*(uvpr*cos(t) + vvpr*sin(t))\n",
    "plcir=parametric_plot3d(cirpar,(t,-pi,pi),color='aquamarine')"
   ]
  },
  {
   "cell_type": "code",
   "execution_count": 58,
   "metadata": {
    "tags": []
   },
   "outputs": [
    {
     "name": "stdout",
     "output_type": "stream",
     "text": [
      "Trajectory center:  (1.3137, 0.12347, -107.51)\n"
     ]
    }
   ],
   "source": [
    "#rotating back the center\n",
    "cptc=rot_ax_ang(rvec,-arot*180/pi)*crot\n",
    "print(\"Trajectory center: \",cptc)"
   ]
  },
  {
   "cell_type": "code",
   "execution_count": 59,
   "metadata": {
    "tags": []
   },
   "outputs": [],
   "source": [
    "#scale factor for graphs\n",
    "sc=50\n",
    "dcrot=dot.translate(crot)+text3d(\"crot\", crot+txo, color=(0.5,0,0))\n",
    "dcptc=dot.translate(cptc)+text3d(\"cptc\", cptc+txo, color=(0.5,0,0))\n",
    "w1arw=arrow3d(cptc, cptc + sc*nsu,width=sc, color ='green')\n",
    "r1arw=arrow3d(PO, cptc ,width=sc, color ='green')\n",
    "plpmat=line3d(tys,radius=3,color='red')\n",
    "plpmatr=line3d(tysr,radius=3,color='purple')\n",
    "plt=dcrot + dcptc + plpmat + plpmatr + w1arw + r1arw + plcir + dip + kcn\n",
    "# plt.show()\n",
    "# plt.show(viewer='tachyon', \n",
    "#           figsize=[20,20], # the image resolution is 100 figsize \n",
    "#           camera_position=[3, 4, 1.7], # a distant camera position combined with \n",
    "#           zoom=3.1, # a large zoom factor will decrease perspective distortion.  \n",
    "#           viewdir=(-2.55,-3.7,-1.7), # slightly off-center\n",
    "#           frame=false,\n",
    "#           axes = false,\n",
    "#           aspect_ratio=[1,1,1],)"
   ]
  },
  {
   "cell_type": "code",
   "execution_count": 60,
   "metadata": {
    "tags": []
   },
   "outputs": [
    {
     "name": "stdout",
     "output_type": "stream",
     "text": [
      "Mean talocrural rotation axis:  (-0.10294, 0.97941, 0.17364)\n"
     ]
    }
   ],
   "source": [
    "#mean for rotation axes of the trajectories.\n",
    "axtA=vector([-0.10295, 0.97941, 0.17364])\n",
    "axtB=vector([-0.10293, 0.97942, 0.17364])\n",
    "axtC=vector([-0.10294, 0.97941, 0.17364])\n",
    "axtmn=((axtA+axtB+axtC)/3)/norm((axtA+axtB+axtC)/3)\n",
    "print(\"Mean talocrural rotation axis: \",axtmn.n(digits=5))"
   ]
  },
  {
   "cell_type": "code",
   "execution_count": 61,
   "metadata": {
    "tags": []
   },
   "outputs": [
    {
     "name": "stdout",
     "output_type": "stream",
     "text": [
      "Mean talocrural center:  (0.66912, -11.871, -108.81)\n"
     ]
    }
   ],
   "source": [
    "#mean for the computed centers of the trajectories.\n",
    "ctyA=vector([0.34535, 0.098175, -107.93])\n",
    "ctyB=vector([13.265, -113.37, -128.29])\n",
    "ctyC=vector([-11.603, 77.660, -90.225])\n",
    "ctymn=(ctyA+ctyB+ctyC)/3\n",
    "print(\"Mean talocrural center: \",ctymn.n(digits=5))"
   ]
  },
  {
   "cell_type": "code",
   "execution_count": 62,
   "metadata": {
    "tags": []
   },
   "outputs": [
    {
     "data": {
      "text/html": [
       "<html>\\(\\displaystyle [\\omega_1,\\nu_1]\\)</html>"
      ],
      "text/latex": [
       "$\\displaystyle [\\omega_1,\\nu_1]$"
      ],
      "text/plain": [
       "[\\omega_1,\\nu_1]"
      ]
     },
     "metadata": {},
     "output_type": "display_data"
    },
    {
     "name": "stdout",
     "output_type": "stream",
     "text": [
      "Original vector:  [(-0.10294, 0.97941, 0.17365), (105.59, 11.098, 0.00000)]\n",
      "Estimated vector:  [(-0.10294, 0.97941, 0.17364), (104.51, 11.085, -0.56662)]\n"
     ]
    },
    {
     "data": {
      "text/html": [
       "<html>\\(\\displaystyle |\\omega_{1o}-\\omega_{1e}| =  8.1395 \\times 10^{-6}\\)</html>"
      ],
      "text/latex": [
       "$\\displaystyle |\\omega_{1o}-\\omega_{1e}| =  8.1395 \\times 10^{-6}$"
      ],
      "text/plain": [
       "|\\omega_{1o}-\\omega_{1e}| =  8.1395e-6"
      ]
     },
     "metadata": {},
     "output_type": "display_data"
    },
    {
     "data": {
      "text/html": [
       "<html>\\(\\displaystyle |\\nu_{1o} -\\nu_{1e}| =  1.2164\\)</html>"
      ],
      "text/latex": [
       "$\\displaystyle |\\nu_{1o} -\\nu_{1e}| =  1.2164$"
      ],
      "text/plain": [
       "|\\nu_{1o} -\\nu_{1e}| =  1.2164"
      ]
     },
     "metadata": {},
     "output_type": "display_data"
    }
   ],
   "source": [
    "# the momentum measured estimation v1me\n",
    "v1me=-axtmn.cross_product(ctymn)\n",
    "nv1e=v1me/norm(v1me)\n",
    "show(LatexExpr(r\"[\\omega_1,\\nu_1]\"))\n",
    "print(\"Original vector: \",[w1.n(digits=5),v1.n(digits=5)])\n",
    "print(\"Estimated vector: \",[axtmn.n(digits=5),v1me.n(digits=5)])\n",
    "pretty_print(LatexExpr(r'|\\omega_{1o}-\\omega_{1e}| = '),norm(axtmn-w1).n(digits=5))\n",
    "pretty_print(LatexExpr(r'|\\nu_{1o} -\\nu_{1e}| = '), norm(v1-v1me).n(digits=5))"
   ]
  },
  {
   "cell_type": "code",
   "execution_count": 63,
   "metadata": {
    "tags": []
   },
   "outputs": [
    {
     "name": "stdout",
     "output_type": "stream",
     "text": [
      "Mean subtalar rotation axis:  (0.73824, 0.20789, 0.64171)\n"
     ]
    }
   ],
   "source": [
    "#mean for subtalar axis of the trajectories.\n",
    "axtA2=vector([0.73827, 0.20787, 0.64167])\n",
    "axtB2=vector([0.73823, 0.20790, 0.64171])\n",
    "axtC2=vector([0.73821, 0.20789, 0.64174])\n",
    "axtmn2=((axtA2+axtB2+axtC2)/3)/norm((axtA2+axtB2+axtC2)/3)\n",
    "print(\"Mean subtalar rotation axis: \",axtmn2.n(digits=5))"
   ]
  },
  {
   "cell_type": "code",
   "execution_count": 64,
   "metadata": {
    "tags": []
   },
   "outputs": [
    {
     "name": "stdout",
     "output_type": "stream",
     "text": [
      "Mean subtalar center:  (-30.490, -7.7882, -138.58)\n"
     ]
    }
   ],
   "source": [
    "#mean for subtalar center of the trajectories.\n",
    "ctyA2=vector([-95.929, -22.830, -191.53])\n",
    "ctyB2=vector([-13.335, -4.1798, -125.39])\n",
    "ctyC2=vector([17.795, 3.6453, -98.822])\n",
    "ctymn2=(ctyA2+ctyB2+ctyC2)/3\n",
    "print(\"Mean subtalar center: \",ctymn2.n(digits=5))"
   ]
  },
  {
   "cell_type": "code",
   "execution_count": 65,
   "metadata": {
    "tags": []
   },
   "outputs": [
    {
     "data": {
      "text/html": [
       "<html>\\(\\displaystyle [\\omega_2,\\nu_2]\\)</html>"
      ],
      "text/latex": [
       "$\\displaystyle [\\omega_2,\\nu_2]$"
      ],
      "text/plain": [
       "[\\omega_2,\\nu_2]"
      ]
     },
     "metadata": {},
     "output_type": "display_data"
    },
    {
     "name": "stdout",
     "output_type": "stream",
     "text": [
      "Original vector:  [(0.73822, 0.20791, 0.64172), (23.199, -84.478, 0.68201)]\n",
      "Estimated vector:  [(0.73824, 0.20789, 0.64171), (23.811, -82.740, -0.58889)]\n",
      "Distance omega_2:  0.000035358\n",
      "Distance nu_2:  2.2381\n"
     ]
    }
   ],
   "source": [
    "# the momentum measured estimation v2me\n",
    "v2me=-axtmn2.cross_product(ctymn2)\n",
    "nv2e=v2me/norm(v2me)\n",
    "show(LatexExpr(r\"[\\omega_2,\\nu_2]\"))\n",
    "print(\"Original vector: \",[w2.n(digits=5),v2.n(digits=5)])\n",
    "print(\"Estimated vector: \",[axtmn2.n(digits=5),v2me.n(digits=5)])\n",
    "print(\"Distance omega_2: \",norm(axtmn2-w2).n(digits=5))\n",
    "print(\"Distance nu_2: \", norm(v2-v2me).n(digits=5))"
   ]
  },
  {
   "cell_type": "markdown",
   "metadata": {},
   "source": [
    "## Range of motion computation"
   ]
  },
  {
   "cell_type": "markdown",
   "metadata": {},
   "source": [
    "### From all the data n=50"
   ]
  },
  {
   "cell_type": "code",
   "execution_count": 66,
   "metadata": {
    "tags": []
   },
   "outputs": [],
   "source": [
    "#measured normal vector to the platform, uncomment for talocrural or subtalar trajectories\n",
    "vabm=mtyB-mtyA\n",
    "vacm=mtyC-mtyA\n",
    "# vabm=mtyB2-mtyA2\n",
    "# vacm=mtyC2-mtyA2\n",
    "cpabc=[(vabm[i].cross_product(vacm[i])) for i in range(nvl)]\n",
    "unvm=[cpabc[i]/norm(cpabc[i]) for i in range(nvl)]\n",
    "# show(matrix(unvm))"
   ]
  },
  {
   "cell_type": "code",
   "execution_count": 67,
   "metadata": {
    "tags": []
   },
   "outputs": [],
   "source": [
    "#measured unitary direction vector\n",
    "sabc=vabm+vacm\n",
    "udvm=[sabc[i]/norm(sabc[i]) for i in range(nvl)]\n",
    "# show(matrix(udvm))"
   ]
  },
  {
   "cell_type": "code",
   "execution_count": 68,
   "metadata": {
    "tags": []
   },
   "outputs": [],
   "source": [
    "# perpendicular unitary vector\n",
    "upvm=[unvm[i].cross_product(udvm[i]) for i in range(nvl)]\n",
    "# show(matrix(upvm))"
   ]
  },
  {
   "cell_type": "code",
   "execution_count": 69,
   "metadata": {
    "tags": []
   },
   "outputs": [
    {
     "data": {
      "text/plain": [
       "0.0073079"
      ]
     },
     "execution_count": 69,
     "metadata": {},
     "output_type": "execute_result"
    }
   ],
   "source": [
    "# measured rotation matrix\n",
    "rmxmd = [matrix([udvm[i],upvm[i],unvm[i]]).T for i in range(nvl)]\n",
    "angm=[arccos(0.5*(rmxmd[i].trace()-1)) for i in range(nvl)]\n",
    "epsilon=min(angm)\n",
    "r2g=180/pi.n(digits=10)\n",
    "epsilon"
   ]
  },
  {
   "cell_type": "code",
   "execution_count": 70,
   "metadata": {
    "tags": []
   },
   "outputs": [
    {
     "name": "stdout",
     "output_type": "stream",
     "text": [
      "the measured talocrural range of motion is:  40.000\n"
     ]
    }
   ],
   "source": [
    "# define the angle measured next to the zero position\n",
    "# select the position\n",
    "zpos=[i for i in range(nvl) if abs(angm[i])<=epsilon]\n",
    "# the maximum negative angle\n",
    "nang=[angm[i] for i in range(nvl) if i<zpos[0]]\n",
    "mna = - max(nang)\n",
    "# the maximum positive angle\n",
    "pang = [angm[i] for i in range(nvl) if i>zpos[0]]\n",
    "mpa = max(pang)\n",
    "print(\"the measured talocrural range of motion is: \",(mpa-mna)*r2g)"
   ]
  },
  {
   "cell_type": "code",
   "execution_count": 71,
   "metadata": {
    "tags": []
   },
   "outputs": [
    {
     "name": "stdout",
     "output_type": "stream",
     "text": [
      "The validated rotation vector:  (-0.10289, 0.97895, 0.17357)\n"
     ]
    }
   ],
   "source": [
    "# The skew-symmetric matrix.\n",
    "skwsm = [1/(2*sin(angm[i]))*(rmxmd[i]-rmxmd[i].T) for i in range(nvl) if i < zpos[0]]\n",
    "# The rotation vector\n",
    "vvect = [vector([skwsm[i][1][2],skwsm[i][2][0],skwsm[i][0][1]]) for i in range(zpos[0])]\n",
    "# The mean rotation vector\n",
    "prmvec = sum(vvect)/zpos[0]\n",
    "print(\"The validated rotation vector: \",prmvec)"
   ]
  },
  {
   "cell_type": "markdown",
   "metadata": {},
   "source": [
    "### From decimated data n = 10"
   ]
  },
  {
   "cell_type": "code",
   "execution_count": 72,
   "metadata": {
    "tags": []
   },
   "outputs": [
    {
     "data": {
      "text/plain": [
       "[-116.32 -1.4090 -175.01]\n",
       "[-116.94 -3.0434 -173.76]\n",
       "[-117.49 -4.7460 -172.58]\n",
       "[-117.97 -6.5117 -171.46]\n",
       "[-118.37 -8.3355 -170.40]"
      ]
     },
     "execution_count": 72,
     "metadata": {},
     "output_type": "execute_result"
    }
   ],
   "source": [
    "# decimated results for trajectory a\n",
    "# crpA0=mtyA[0].cross_product(A0)\n",
    "crpA0=mtyA2[0].cross_product(A0)\n",
    "# the positive angles regarding A0\n",
    "# dptyA=matrix([mtyA[i] for i in range(nvl) if crpA0.dot_product(mtyA[i].cross_product(A0)) > 0 and i%5==0 ])\n",
    "dptyA=matrix([mtyA2[i] for i in range(nvl) if crpA0.dot_product(mtyA2[i].cross_product(A0)) > 0 and i%5==0 ])\n",
    "# the negative angles \n",
    "# dntyA=matrix([mtyA[i] for i in range(nvl) if crpA0.dot_product(mtyA[i].cross_product(A0)) < 0 and (i+1)%5==0])\n",
    "dntyA=matrix([mtyA2[i] for i in range(nvl) if crpA0.dot_product(mtyA2[i].cross_product(A0)) < 0 and (i+1)%5==0])\n",
    "dntyA"
   ]
  },
  {
   "cell_type": "code",
   "execution_count": 73,
   "metadata": {
    "tags": []
   },
   "outputs": [
    {
     "data": {
      "text/plain": [
       "[ 60.212 -96.112 -180.22]\n",
       "[ 62.640 -91.324 -184.56]\n",
       "[ 64.851 -86.289 -188.74]\n",
       "[ 66.840 -81.021 -192.73]\n",
       "[ 68.602 -75.534 -196.54]"
      ]
     },
     "execution_count": 73,
     "metadata": {},
     "output_type": "execute_result"
    }
   ],
   "source": [
    "# decimated results for trajectory b\n",
    "# crpB0=mtyB[0].cross_product(B0)\n",
    "crpB0=mtyB2[0].cross_product(B0)\n",
    "# the positive angles regarding B0\n",
    "# dptyB=matrix([mtyB[i] for i in range(nvl) if crpB0.dot_product(mtyB[i].cross_product(B0)) > 0 and i%5==0 ])\n",
    "dptyB=matrix([mtyB2[i] for i in range(nvl) if crpB0.dot_product(mtyB2[i].cross_product(B0)) > 0 and i%5==0 ])\n",
    "# the negative angles \n",
    "# dntyB=matrix([mtyB[i] for i in range(nvl) if crpB0.dot_product(mtyB[i].cross_product(B0)) < 0 and (i+1)%5==0])\n",
    "dntyB=matrix([mtyB2[i] for i in range(nvl) if crpB0.dot_product(mtyB2[i].cross_product(B0)) < 0 and (i+1)%5==0])\n",
    "dntyB"
   ]
  },
  {
   "cell_type": "code",
   "execution_count": 74,
   "metadata": {
    "tags": []
   },
   "outputs": [
    {
     "data": {
      "text/plain": [
       "[ 54.066  104.06 -173.08]\n",
       "[ 49.766  108.08 -169.43]\n",
       "[ 45.374  111.81 -165.59]\n",
       "[ 40.903  115.23 -161.55]\n",
       "[ 36.366  118.33 -157.34]"
      ]
     },
     "execution_count": 74,
     "metadata": {},
     "output_type": "execute_result"
    }
   ],
   "source": [
    "# decimated results for trajectory c\n",
    "# crpC0=mtyC[0].cross_product(C0)\n",
    "crpC0=mtyC2[0].cross_product(C0)\n",
    "# the positive angles regarding C0\n",
    "# dptyC=matrix([mtyC[i] for i in range(nvl) if crpC0.dot_product(mtyC[i].cross_product(C0)) > 0 and i%5==0 ])\n",
    "dptyC=matrix([mtyC2[i] for i in range(nvl) if crpC0.dot_product(mtyC2[i].cross_product(C0)) > 0 and i%5==0 ])\n",
    "# the negative angles \n",
    "# dntyC=matrix([mtyC[i] for i in range(nvl) if crpC0.dot_product(mtyC[i].cross_product(C0)) < 0 and (i+1)%5==0])\n",
    "dntyC=matrix([mtyC2[i] for i in range(nvl) if crpC0.dot_product(mtyC2[i].cross_product(C0)) < 0 and (i+1)%5==0])\n",
    "dntyC"
   ]
  },
  {
   "cell_type": "code",
   "execution_count": 75,
   "metadata": {
    "tags": []
   },
   "outputs": [
    {
     "name": "stdout",
     "output_type": "stream",
     "text": [
      "Vector AB:\n",
      " [ 153.69 -124.85  30.829]\n",
      "[ 158.20 -120.59  24.255]\n",
      "[ 162.49 -115.92  17.808]\n",
      "[ 166.54 -110.85  11.507]\n",
      "[ 170.35 -105.41  5.3694]\n",
      "Vector AC:\n",
      " [ 188.02  69.014 -6.5483]\n",
      "[ 185.47  75.661 -5.7695]\n",
      "[ 182.71  82.181 -4.7012]\n",
      "[ 179.74  88.555 -3.3472]\n",
      "[ 176.56  94.764 -1.7107]\n",
      "Normal vector n:\n",
      " [ -0.0377    0.196    0.980]\n",
      "[ -0.0328    0.156    0.987]\n",
      "[ -0.0264    0.116    0.993]\n",
      "[ -0.0186   0.0755    0.997]\n",
      "[-0.00945   0.0356    0.999]\n",
      "Direction vector s:\n",
      " [  0.984  -0.161  0.0700]\n",
      "[  0.990  -0.129  0.0533]\n",
      "[  0.995 -0.0972  0.0378]\n",
      "[  0.998 -0.0642  0.0235]\n",
      "[  0.999 -0.0307  0.0105]\n",
      "Perpendicular vector a:\n",
      " [  0.171   0.967  -0.187]\n",
      "[  0.136   0.979  -0.150]\n",
      "[  0.101   0.989  -0.112]\n",
      "[ 0.0658   0.995 -0.0741]\n",
      "[ 0.0310   0.999 -0.0353]\n",
      "Rotation matrix:\n",
      "\n",
      "\\left[\\left(\\begin{array}{rrr}\n",
      "0.98449 & 0.17132 & -0.037670 \\\\\n",
      "-0.16086 & 0.96740 & 0.19561 \\\\\n",
      "0.069954 & -0.18652 & 0.97996\n",
      "\\end{array}\\right), \\left(\\begin{array}{rrr}\n",
      "0.99016 & 0.13607 & -0.032763 \\\\\n",
      "-0.12943 & 0.97930 & 0.15560 \\\\\n",
      "0.053258 & -0.14983 & 0.98728\n",
      "\\end{array}\\right), \\left(\\begin{array}{rrr}\n",
      "0.99455 & 0.10087 & -0.026412 \\\\\n",
      "-0.097193 & 0.98854 & 0.11552 \\\\\n",
      "0.037762 & -0.11232 & 0.99295\n",
      "\\end{array}\\right), \\left(\\begin{array}{rrr}\n",
      "0.99766 & 0.065823 & -0.018631 \\\\\n",
      "-0.064242 & 0.99507 & 0.075497 \\\\\n",
      "0.023509 & -0.074124 & 0.99697\n",
      "\\end{array}\\right), \\left(\\begin{array}{rrr}\n",
      "0.99947 & 0.031024 & -0.0094457 \\\\\n",
      "-0.030669 & 0.99889 & 0.035639 \\\\\n",
      "0.010541 & -0.035331 & 0.99932\n",
      "\\end{array}\\right)\\right]\n",
      "Angles in negative group: (rad)\n",
      " [ 0.26181]\n",
      "[ 0.20838]\n",
      "[ 0.15495]\n",
      "[ 0.10153]\n",
      "[0.048085]\n",
      "Angles in negative group: (deg)\n",
      " [15.001]\n",
      "[11.939]\n",
      "[8.8777]\n",
      "[5.8173]\n",
      "[2.7551]\n"
     ]
    },
    {
     "data": {
      "text/html": [
       "<html>\\(\\displaystyle \\begin{array}{l}\n",
       "\\verb|Greatest|\\verb| |\\verb|negative|\\verb| |\\verb|angle:|\\\\\n",
       "\n",
       "\\end{array} -15.001\\)</html>"
      ],
      "text/latex": [
       "$\\displaystyle \\begin{array}{l}\n",
       "\\verb|Greatest|\\verb| |\\verb|negative|\\verb| |\\verb|angle:|\\\\\n",
       "\n",
       "\\end{array} -15.001$"
      ],
      "text/plain": [
       "'Greatest negative angle:\\n' -15.001"
      ]
     },
     "metadata": {},
     "output_type": "display_data"
    }
   ],
   "source": [
    "# most negative angle with decimated measurements\n",
    "lngt=len(list(dptyA))\n",
    "dpvab=dptyB-dptyA\n",
    "print(\"Vector AB:\\n\",dpvab)\n",
    "dpvac=dptyC-dptyA\n",
    "print(\"Vector AC:\\n\",dpvac)\n",
    "dcpabc=[(dpvab[i].cross_product(dpvac[i])) for i in range(lngt)]\n",
    "dunv=matrix([dcpabc[i]/norm(dcpabc[i]) for i in range(lngt)])\n",
    "print(\"Normal vector n:\\n\",dunv.n(digits=3))\n",
    "dsabc=dpvab+dpvac\n",
    "dudv=matrix([dsabc[i]/norm(dsabc[i]) for i in range(lngt)])\n",
    "print(\"Direction vector s:\\n\",dudv.n(digits=3))\n",
    "dupv=matrix([dunv[i].cross_product(dudv[i]) for i in range(lngt)])\n",
    "print(\"Perpendicular vector a:\\n\",dupv.n(digits=3))\n",
    "# measured rotation matrix\n",
    "drxd = [matrix([dudv[i],dupv[i],dunv[i]]).T for i in range(lngt)]\n",
    "print(\"Rotation matrix:\\n\")\n",
    "print(latex(drxd))\n",
    "dang=[arccos(0.5*(drxd[i].trace()-1)) for i in range(lngt)]\n",
    "print(\"Angles in negative group: (rad)\\n\",matrix(dang).T)\n",
    "print(\"Angles in negative group: (deg)\\n\",r2g*matrix(dang).T)\n",
    "mnang=-max(dang)*r2g\n",
    "pretty_print(\"Greatest negative angle:\\n\",mnang)"
   ]
  },
  {
   "cell_type": "code",
   "execution_count": 76,
   "metadata": {
    "tags": []
   },
   "outputs": [
    {
     "name": "stdout",
     "output_type": "stream",
     "text": [
      "Vector AB:\n",
      " [ 176.53 -94.703 -5.2102]\n",
      "[ 179.58 -88.281 -10.798]\n",
      "[ 182.34 -81.543 -16.158]\n",
      "[ 184.81 -74.509 -21.276]\n",
      "[ 186.97 -67.199 -26.137]\n",
      "Vector AC:\n",
      " [170.38 105.47 1.9314]\n",
      "[166.70 111.13 4.3313]\n",
      "[162.86 116.55 6.9919]\n",
      "[158.87 121.74 9.9048]\n",
      "[154.74 126.66 13.062]\n",
      "Normal vector n:\n",
      " [ 0.0105 -0.0353   0.999]\n",
      "[ 0.0235 -0.0741   0.997]\n",
      "[ 0.0378  -0.112   0.993]\n",
      "[ 0.0533  -0.150   0.987]\n",
      "[ 0.0700  -0.187   0.980]\n",
      "Direction vector s:\n",
      " [   0.999   0.0310 -0.00945]\n",
      "[   0.998   0.0658  -0.0186]\n",
      "[   0.995    0.101  -0.0264]\n",
      "[   0.990    0.136  -0.0328]\n",
      "[   0.984    0.171  -0.0377]\n",
      "Perpendicular vector a:\n",
      " [-0.0307   0.999  0.0356]\n",
      "[-0.0642   0.995  0.0755]\n",
      "[-0.0972   0.989   0.116]\n",
      "[ -0.129   0.979   0.156]\n",
      "[ -0.161   0.967   0.196]\n",
      "Rotation matrix:\n",
      "\n",
      "\\left[\\left(\\begin{array}{rrr}\n",
      "0.99947 & -0.030669 & 0.010542 \\\\\n",
      "0.031024 & 0.99889 & -0.035329 \\\\\n",
      "-0.0094465 & 0.035638 & 0.99932\n",
      "\\end{array}\\right), \\left(\\begin{array}{rrr}\n",
      "0.99766 & -0.064241 & 0.023509 \\\\\n",
      "0.065821 & 0.99507 & -0.074124 \\\\\n",
      "-0.018631 & 0.075498 & 0.99697\n",
      "\\end{array}\\right), \\left(\\begin{array}{rrr}\n",
      "0.99455 & -0.097194 & 0.037759 \\\\\n",
      "0.10087 & 0.98854 & -0.11233 \\\\\n",
      "-0.026409 & 0.11552 & 0.99295\n",
      "\\end{array}\\right), \\left(\\begin{array}{rrr}\n",
      "0.99016 & -0.12943 & 0.053257 \\\\\n",
      "0.13607 & 0.97930 & -0.14983 \\\\\n",
      "-0.032762 & 0.15560 & 0.98728\n",
      "\\end{array}\\right), \\left(\\begin{array}{rrr}\n",
      "0.98449 & -0.16086 & 0.069953 \\\\\n",
      "0.17132 & 0.96740 & -0.18652 \\\\\n",
      "-0.037669 & 0.19561 & 0.97996\n",
      "\\end{array}\\right)\\right]\n",
      "Angles in negative group: (rad)\n",
      " [0.048085]\n",
      "[ 0.10153]\n",
      "[ 0.15495]\n",
      "[ 0.20838]\n",
      "[ 0.26180]\n",
      "Angles in negative group: (deg)\n",
      " [2.7551]\n",
      "[5.8173]\n",
      "[8.8777]\n",
      "[11.939]\n",
      "[15.000]\n",
      "Greatest positive angle:\n",
      " 15.000\n"
     ]
    }
   ],
   "source": [
    "# most positive angle with decimated measurements\n",
    "lpgt=len(list(dntyA))\n",
    "dnvab=matrix(dntyB)-matrix(dntyA)\n",
    "print(\"Vector AB:\\n\",dnvab)\n",
    "dnvac=matrix(dntyC)-matrix(dntyA)\n",
    "print(\"Vector AC:\\n\",dnvac)\n",
    "dcnabc=[(dnvab[i].cross_product(dnvac[i])) for i in range(lpgt)]\n",
    "dnunv=matrix([dcnabc[i]/norm(dcnabc[i]) for i in range(lpgt)])\n",
    "print(\"Normal vector n:\\n\",dnunv.n(digits=3))\n",
    "dnsabc=dnvab+dnvac\n",
    "dnudv=matrix([dnsabc[i]/norm(dnsabc[i]) for i in range(lpgt)])\n",
    "print(\"Direction vector s:\\n\",dnudv.n(digits=3))\n",
    "dnupv=matrix([dnunv[i].cross_product(dnudv[i]) for i in range(lpgt)])\n",
    "print(\"Perpendicular vector a:\\n\",dnupv.n(digits=3))\n",
    "# measured rotation matrix\n",
    "dnrxd = [matrix([dnudv[i],dnupv[i],dnunv[i]]).T for i in range(lpgt)]\n",
    "print(\"Rotation matrix:\\n\")\n",
    "print(latex(dnrxd))\n",
    "dnang=[arccos(0.5*(dnrxd[i].trace()-1)) for i in range(lpgt)]\n",
    "print(\"Angles in negative group: (rad)\\n\",matrix(dnang).T)\n",
    "print(\"Angles in negative group: (deg)\\n\",r2g*matrix(dnang).T)\n",
    "mpang=max(dnang)*r2g\n",
    "print(\"Greatest positive angle:\\n\",mpang)"
   ]
  },
  {
   "cell_type": "code",
   "execution_count": 77,
   "metadata": {
    "tags": []
   },
   "outputs": [
    {
     "name": "stdout",
     "output_type": "stream",
     "text": [
      "Range of motion:  30.001\n"
     ]
    }
   ],
   "source": [
    "drom=mpang-mnang\n",
    "print(\"Range of motion: \",drom)"
   ]
  },
  {
   "cell_type": "markdown",
   "metadata": {},
   "source": [
    "## Common Perpendicular and its Feet\n",
    "The common perpendicular line help us to define the ankle kinematics chain. The feet are the points that intersect the common perpendicular with the talocrural and the subtalar axis. By knowing the six-dimensional vectors $\\$_1=[\\omega_1,\\nu_1]$ and $\\$_2=[\\omega_2,\\nu_2]$."
   ]
  },
  {
   "cell_type": "code",
   "execution_count": 78,
   "metadata": {
    "tags": []
   },
   "outputs": [
    {
     "name": "stdout",
     "output_type": "stream",
     "text": [
      "Mean values:  (-0.1030, 0.9790, 0.1740) (106.0, 11.10, 0.0000) (0.7380, 0.2080, 0.6420) (23.20, -84.50, 0.6820)\n",
      "Max. values:  (0.01740, 0.9940, 0.1050) (107.0, -1.870, 0.0000) (0.6290, 0.2080, 0.7490) (23.10, -72.70, 0.7960)\n",
      "Min. values:  (-0.2180, 0.9450, 0.2420) (102.0, 23.50, 0.0000) (0.7030, 0.5590, 0.4390) (62.70, -79.90, 1.480)\n"
     ]
    }
   ],
   "source": [
    "# The axis mean values\n",
    "w1me=vector([-0.103, 0.979, 0.174])\n",
    "v1me=vector([106., 11.1, 0])\n",
    "w2me=vector([0.738, 0.208, 0.642])\n",
    "v2me=vector([23.2, -84.5, 0.682])\n",
    "print(\"Mean values: \",w1me.n(digits=4),v1me.n(digits=4),w2me.n(digits=4),v2me.n(digits=4))\n",
    "# The axis maximum values\n",
    "w1ma=vector([0.0174, 0.994, 0.105])\n",
    "v1ma=vector([107., -1.87, 0])\n",
    "w2ma=vector([0.629, 0.208, 0.749])\n",
    "v2ma=vector([23.1, -72.7, 0.796])\n",
    "print(\"Max. values: \",w1ma.n(digits=4),v1ma.n(digits=4),w2ma.n(digits=4),v2ma.n(digits=4))\n",
    "# The axis minimum values\n",
    "w1mi=vector([-0.218, 0.945, 0.242])\n",
    "v1mi=vector([102., 23.5, 0])\n",
    "w2mi=vector([0.703, 0.559, 0.439])\n",
    "v2mi=vector([62.7, -79.9, 1.48])\n",
    "print(\"Min. values: \",w1mi.n(digits=4),v1mi.n(digits=4),w2mi.n(digits=4),v2mi.n(digits=4))"
   ]
  },
  {
   "cell_type": "code",
   "execution_count": 79,
   "metadata": {
    "tags": []
   },
   "outputs": [],
   "source": [
    "# replace by mean values\n",
    "w1=w1me\n",
    "v1=v1me\n",
    "w2=w2me\n",
    "v2=v2me\n",
    "\n",
    "# replace by maximum values\n",
    "# w1=w1ma\n",
    "# v1=v1ma\n",
    "# w2=w2ma\n",
    "# v2=v2ma\n",
    "\n",
    "# replace by minimum values\n",
    "# w1=w1mi\n",
    "# v1=v1mi\n",
    "# w2=w2mi\n",
    "# v2=v2mi"
   ]
  },
  {
   "cell_type": "code",
   "execution_count": 80,
   "metadata": {
    "tags": []
   },
   "outputs": [
    {
     "name": "stdout",
     "output_type": "stream",
     "text": [
      "$_1 = (-0.1030, 0.9790, 0.1740, 106.0, 11.10, 0.0000)\n",
      "$_2 = (0.7380, 0.2080, 0.6420, 23.20, -84.50, 0.6820)\n"
     ]
    }
   ],
   "source": [
    "#assemble the six dimensional vector\n",
    "from itertools import chain\n",
    "stc =vector(chain(w1,v1))\n",
    "sst =vector(chain(w2,v2))\n",
    "print('$_1',\"=\",stc.n(digits=4))\n",
    "print('$_2',\"=\",sst.n(digits=4))"
   ]
  },
  {
   "cell_type": "code",
   "execution_count": 81,
   "metadata": {
    "tags": []
   },
   "outputs": [
    {
     "name": "stdout",
     "output_type": "stream",
     "text": [
      "omega_c : (0.5923, 0.1945, -0.7439) nu_c : (250., 11., -290.)\n"
     ]
    }
   ],
   "source": [
    "#plucker perpendicular line\n",
    "w_c=w1.cross_product(w2)\n",
    "nwc2=norm(w_c)^2\n",
    "vc1=v1.cross_product(w2)-v2.cross_product(w1)\n",
    "vc2 = stc.dot_product(sst)*w1.dot_product(w2)\n",
    "v_c = vc1 + vc2/nwc2*w_c\n",
    "print(var('omega_c'),\":\",w_c.n(digits=4),var('nu_c'),\":\",v_c.n(digits=2))"
   ]
  },
  {
   "cell_type": "code",
   "execution_count": 82,
   "metadata": {
    "tags": []
   },
   "outputs": [
    {
     "name": "stdout",
     "output_type": "stream",
     "text": [
      "r1i: (0.11, -1.0, -110.) r2i (2.9, -0.12, -110.)\n"
     ]
    }
   ],
   "source": [
    "#intersection points common perpendicular feet \n",
    "r_1i=(-v1.cross_product(w2.cross_product(w_c))+v2.dot_product(w_c)*w1)/nwc2\n",
    "dr1i=dot.translate(r_1i)\n",
    "r_2i=(v2.cross_product(w1.cross_product(w_c))-v1.dot_product(w_c)*w2)/nwc2\n",
    "dr2i=dot.translate(r_2i)\n",
    "print(\"r1i:\",r_1i.n(digits=2),\"r2i\",r_2i.n(digits=2))"
   ]
  },
  {
   "cell_type": "markdown",
   "metadata": {},
   "source": [
    "## Projection of the axis and intersection pivot point."
   ]
  },
  {
   "cell_type": "code",
   "execution_count": 83,
   "metadata": {
    "tags": []
   },
   "outputs": [
    {
     "name": "stdout",
     "output_type": "stream",
     "text": [
      "(0.09698, -0.9111, 0.0000)\n"
     ]
    }
   ],
   "source": [
    "# Using solve function\n",
    "x,y = var('x,y')\n",
    "#talocrural projected points\n",
    "l1p=(x-r_1i[0])/w1[0]==(y-r_1i[1])/w1[1]\n",
    "l2p=(x-r_2i[0])/w2[0]==(y-r_2i[1])/w2[1]\n",
    "slnp=solve([l1p,l2p],x,y)\n",
    "xp=slnp[0][0].rhs()\n",
    "yp=slnp[0][1].rhs()\n",
    "intp=vector([xp,yp,0])\n",
    "print(intp.n(digits=4))"
   ]
  },
  {
   "cell_type": "code",
   "execution_count": 84,
   "metadata": {
    "tags": []
   },
   "outputs": [
    {
     "name": "stdout",
     "output_type": "stream",
     "text": [
      "The intersection projecting point on the base:  (0.09698, -0.9111, 0.0000)\n",
      "The intersection projecting point on the platform:  (0.09698, -0.9111, -176.2)\n"
     ]
    }
   ],
   "source": [
    "# Using orthogonal projection and determinants\n",
    "# Projection matrix\n",
    "Py=matrix([[1, 0, 0],[0, 1, 0],[0,0,0]])\n",
    "# subtalar projected vectors\n",
    "uvz=vector([0,0,1])\n",
    "r1ip=Py*r_1i+uvz\n",
    "w1cp=Py*(r_1i+w1)+uvz\n",
    "dl1=matrix([r1ip,w1cp]).delete_columns([2]).det()\n",
    "dlx1=matrix([r1ip,w1cp]).delete_columns([1]).det()\n",
    "dly1=matrix([r1ip,w1cp]).delete_columns([0]).det()\n",
    "# talocrural projected vectors\n",
    "r2ip=Py*r_2i+uvz\n",
    "w2cp=Py*(r_2i+w2)+uvz\n",
    "dl2=matrix([r2ip,w2cp]).delete_columns([2]).det()\n",
    "dlx2=matrix([r2ip,w2cp]).delete_columns([1]).det()\n",
    "dly2=matrix([r2ip,w2cp]).delete_columns([0]).det()\n",
    "# Numerator x\n",
    "xnum=matrix([[dl1,dlx1],[dl2,dlx2]]).det()\n",
    "ynum=matrix([[dl1,dly1],[dl2,dly2]]).det()\n",
    "# Denominator\n",
    "denom=matrix([[dlx1,dly1],[dlx2,dly2]]).det()\n",
    "# resolution\n",
    "xval=xnum/denom\n",
    "yval=ynum/denom\n",
    "# Aligning vector\n",
    "alv=vector([xval,yval,0])\n",
    "POi=PO+alv\n",
    "dPOi=dot2.translate(POi)\n",
    "PMi=PM0+alv\n",
    "dPMi=dot2.translate(PMi)\n",
    "print(\"The intersection projecting point on the base: \",POi.n(digits=4))\n",
    "print(\"The intersection projecting point on the platform: \",PMi.n(digits=4))"
   ]
  },
  {
   "cell_type": "code",
   "execution_count": 85,
   "metadata": {
    "tags": []
   },
   "outputs": [],
   "source": [
    "#graphical structure of the ankle, platform and base\n",
    "#base and platform representation\n",
    "# Robot platform radius is 80% of the sensor platform radius\n",
    "rpr=0.8*r_p\n",
    "# Robot base radius is 80% of the sensor base radius\n",
    "rbr=0.8*r_b\n",
    "from sage.plot.plot3d.shapes import Torus\n",
    "btor=Torus(rbr,1).translate(POi)\n",
    "ptor=Torus(rpr,1).translate(PMi)\n",
    "#vector talocrural axis representation\n",
    "gw1=arrow3d(r_1i,r_1i+50*w1,radius=1,color='brown')\n",
    "#vector subtalar axis representation\n",
    "gw2=arrow3d(r_2i,r_2i+50*w2,radius=1,color='orange')\n",
    "#line segment from the intersection point to the talocrural axis\n",
    "lor1i=line3d([POi,r_1i],radius=2,color='pink')\n",
    "#common perpendicular\n",
    "lr12i=line3d([r_1i,r_2i],radius=2,color='pink')\n",
    "#platform center to the distal common perpendicular intersection point\n",
    "lr2PMi=line3d([r_2i,PMi],radius=2,color='pink')\n",
    "kchn=lor1i+lr12i+lr2PMi+gw1+gw2+btor+ptor+dr1i+dr2i+dPOi+dPMi+dPO+dPM0\n",
    "# kchn.show()\n",
    "# kchn.show(viewer='tachyon', \n",
    "#           figsize=[20,20], # the image resolution is 100 figsize \n",
    "#           camera_position=[3, 4, 3], # a distant camera position combined with \n",
    "#           zoom=2.45, # a large zoom factor will decrease perspective distortion.  \n",
    "#           viewdir=(-2.77,-3.7,-2.8), # slightly off-center\n",
    "#           frame=false,\n",
    "#           axes = false,\n",
    "#           aspect_ratio=[1,1,1],)"
   ]
  },
  {
   "cell_type": "markdown",
   "metadata": {},
   "source": [
    "# Robot Synthesis"
   ]
  },
  {
   "cell_type": "markdown",
   "metadata": {},
   "source": [
    "## Cable Collision with the Ankle Joint\n",
    "We evaluate if exist collision between the cables and the body. We choose an ankle width greater than the mean. It is represented by a circle, the antagonistic cables are attachet to the base and the platform. From the initial position the range of movement is limited by the collision between the cable and the circle. \n",
    "<!-- <img src=\"collision.svg\" alt=\"anttrhopometricklo\" width=\"300\"/> -->\n"
   ]
  },
  {
   "cell_type": "code",
   "execution_count": 86,
   "metadata": {
    "tags": []
   },
   "outputs": [
    {
     "name": "stdout",
     "output_type": "stream",
     "text": [
      "The arc lenght is:  35.10\n"
     ]
    }
   ],
   "source": [
    "# Redefine the platform and the base proportional to the sensor system\n",
    "rpr=0.8*r_p\n",
    "rbr=0.8*r_b\n",
    "# Redefine body proportions\n",
    "H=vh_mean\n",
    "# H=vh_min \n",
    "# H=vh_max \n",
    "# ankle radius\n",
    "fw=0.055*H\n",
    "r_a=fw/2\n",
    "# Distance from the ankle to the foot\n",
    "daf=0.039*H\n",
    "# Distance from the origin to the ankle\n",
    "doa=0.046*H\n",
    "# Platform and base size relative to the foot width\n",
    "x,y,dy = var('x,y,dy')\n",
    "#radius from center to the platform attaching point\n",
    "rtf= sqrt(daf^2+(0.5*rpr)^2)\n",
    "# Base dimensions\n",
    "x0=rbr\n",
    "y0=-doa\n",
    "x1=-x0\n",
    "y1=y0\n",
    "# Semicircle derivative\n",
    "fsc=sqrt(r_a^2-x^2)\n",
    "dy=diff(fsc,x)\n",
    "# Equation slope and point\n",
    "ms=(y-y0)/(x-x0)\n",
    "# Definition to solve\n",
    "eqn=dy==ms\n",
    "# Solve for y\n",
    "sln=solve(eqn,y)\n",
    "# Extract solution\n",
    "eqs=sln[0].rhs()\n",
    "# Substituting in the semicircle\n",
    "eqx=eqs==fsc\n",
    "# Solving for x\n",
    "xs=solve(eqx, x, to_poly_solve=true)\n",
    "# Extract x\n",
    "xf=xs[0].rhs()\n",
    "# Substitutying for y\n",
    "yf=fsc.subs(x=xf)\n",
    "# Trajectory circle\n",
    "mc=ms.subs(x=xf,y=yf).n()\n",
    "eql1=mc*(x-x0)+y0\n",
    "# Equation for circle trajectory\n",
    "eqct=sqrt(rtf^2-x^2)\n",
    "# Intersection \n",
    "xc2=solve([eql1==eqct],x,to_poly_solve=true)[0].rhs()\n",
    "# Substituting in the line\n",
    "yc2=eql1.subs(x=xc2)\n",
    "# Platform at initial position\n",
    "sc2x=solve([daf==eqct],x)\n",
    "xc21=sc2x[0].rhs().n()\n",
    "xc22=sc2x[1].rhs().n()\n",
    "yc21=eqct.subs(x=xc21).n()\n",
    "yc22=eqct.subs(x=xc22).n()\n",
    "# Compute the platform arc lenght\n",
    "th1=arctan2(yc21,xc21)\n",
    "th2=arctan2(yc22,xc22)\n",
    "arcl=th1-th2\n",
    "# Compute angle at the final position\n",
    "arcxc2=arctan2(yc2,xc2)\n",
    "# Compute the second point final position from the initial point\n",
    "ph2=arcxc2+arcl\n",
    "xph2=cos(ph2)*rtf\n",
    "yph2=sin(ph2)*rtf\n",
    "# Compute the displacement\n",
    "displ=(arcxc2-th2)*180/pi\n",
    "print(\"The arc lenght is: \",(displ).n(digits=4))\n",
    "# pretty_print(\"The arc lenght is: \",(displ).n(digits=4),LatexExpr(r\"^\\circ\"))"
   ]
  },
  {
   "cell_type": "code",
   "execution_count": 87,
   "metadata": {
    "tags": []
   },
   "outputs": [],
   "source": [
    "# Graphic representation\n",
    "pc21=point([xc21,yc21],size=10)+text(r\"$P_{2i}$\",(xc21-7,yc21+7),fontsize=16)\n",
    "pc22=point([xc22,yc22])+text(r\"$P_{1i}$\",(xc22+7,yc22),fontsize=16)\n",
    "p=point([xf,yf],color='red')+text(r\"$P_T$\",(xf-7,yf),fontsize=16)\n",
    "p0=point([x0,y0])+text(r\"$B_1$\",(x0+7,y0),fontsize=16)\n",
    "p1=point([x1,y1])+text(r\"$B_2$\",(x1-7,y1),fontsize=16)\n",
    "l1=line([(xf,yf),(x0,y0)],color='red')\n",
    "pc2=point([xc2,yc2],color='red',size=2)+text(r\"$P_{1f}$\",(xc2,yc2+7),fontsize=16,color='red')\n",
    "l2=line([(xf,yf),(xc2,yc2)],color='red')\n",
    "cr1=disk((0,0),r_a,(0, 2*pi), color='pink')\n",
    "cr2=arc(center=(0,0),r1=rtf,r2=rtf,angle=0,sector=(th2,arcxc2),linestyle=\"--\",color='green')\n",
    "locang=vector([(xc2+xc22)/2+14,(yc2+yc22)/2+14])\n",
    "tcr2=text(r\"$\\gamma = {} ^\\circ$\".format(displ.n(digits=4)),locang,fontsize=16,color='green')\n",
    "pc2ph2=point([xph2,yph2],color='red')+text(r\"$P_{2f}$\",(xph2-7,yph2),fontsize=16,color='red')\n",
    "plat1=line([(xph2,yph2),(xc2,yc2)],thickness=3,color='red')\n",
    "plat2=line([(xc21,yc21),(xc22,yc22)],thickness=3,alpha=0.5)\n",
    "bs=line([(x0,y0),(x1,y1)],thickness=3)\n",
    "cbl1=line([(x0,y0),(xc22,yc22)],color='gray')\n",
    "# Ploting\n",
    "grcol=p+p0+p1+l1+l2+pc2+cr1+cr2+pc21+pc22+pc2ph2+plat1+plat2+bs+cbl1+tcr2\n",
    "# show(grcol)\n",
    "# grcol.save(\"collsim.svg\",dpi=600,fig_tight=False,fontsize=14)"
   ]
  },
  {
   "cell_type": "markdown",
   "metadata": {},
   "source": [
    "## Two Perpendicular Axis Analogous Mechanism\n",
    "In this section, we analyze the four cable-driven two perpendicular axis, for a \"dummy\" shank-ankle-foot, then we extend the concept for the ankle model."
   ]
  },
  {
   "cell_type": "code",
   "execution_count": 88,
   "metadata": {
    "tags": []
   },
   "outputs": [],
   "source": [
    "# Redefine the axis direction for dummy model\n",
    "w1d=vector([0,1,0])\n",
    "w2d=vector([1,0,0])\n",
    "# redefine the r points\n",
    "r1d=vector([0,0,-doa])\n",
    "r2d=vector([0,0,-(doa+vQ)])\n",
    "# Find the momentums\n",
    "v1d=r1d.cross_product(w1d)\n",
    "v2d=r2d.cross_product(w2d)\n",
    "# Base points\n",
    "bp1=vector([rbr,0,0])\n",
    "bp2=vector([-rbr,0,0])\n",
    "bp3=vector([0,-rbr,0])\n",
    "bp4=vector([0,rbr,0])\n",
    "# Platform initial points\n",
    "zin=-(doa+daf)\n",
    "pp1=vector([rpr,0,zin])\n",
    "pp2=vector([-rpr,0,zin])\n",
    "pp3=vector([0,-rpr,zin])\n",
    "pp4=vector([0,rpr,zin])\n",
    "pf0=vector([0,0,zin])\n"
   ]
  },
  {
   "cell_type": "code",
   "execution_count": 89,
   "metadata": {
    "tags": []
   },
   "outputs": [],
   "source": [
    "# kinematic chain\n",
    "lskc=line([[PO[0],PO[2]],[r1d[0],r1d[2]]],color='pink',thickness=4)\n",
    "ltkc=line([[r1d[0],r1d[2]],[r2d[0],r2d[2]]],color='pink',thickness=4)\n",
    "lfkc=line([[r2d[0],r2d[2]],[pf0[0],pf0[2]]],color='pink',thickness=4)\n",
    "pr1d=point([r1d[0],r1d[2]],size=100,color='red')+text(r\"$\\$_{34}$\",(r1d[0]+7,r1d[2]+7),fontsize=14)\n",
    "pr2d=point([r2d[0],r2d[2]],size=50)+text(r\"$\\$_{12}$\",(r2d[0]+7,r2d[2]-7),fontsize=14)\n",
    "kcnd=lskc+ltkc+lfkc+pr1d+pr2d"
   ]
  },
  {
   "cell_type": "code",
   "execution_count": 90,
   "metadata": {
    "tags": []
   },
   "outputs": [],
   "source": [
    "# rotate degrees to radians\n",
    "d2r=pi/180\n",
    "rtp=45*d2r\n",
    "# rotate the cable positions at the base\n",
    "bp1r=bp1*rotate_arbitrary((0,0,1),rtp)\n",
    "bp2r=bp2*rotate_arbitrary((0,0,1),rtp)\n",
    "bp3r=bp3*rotate_arbitrary((0,0,1),rtp)\n",
    "bp4r=bp4*rotate_arbitrary((0,0,1),rtp)\n",
    "# rotate the cable positions at the platform\n",
    "pp1r=pp1*rotate_arbitrary((0,0,1),rtp)\n",
    "pp2r=pp2*rotate_arbitrary((0,0,1),rtp)\n",
    "pp3r=pp3*rotate_arbitrary((0,0,1),rtp)\n",
    "pp4r=pp4*rotate_arbitrary((0,0,1),rtp)"
   ]
  },
  {
   "cell_type": "code",
   "execution_count": 91,
   "metadata": {
    "tags": []
   },
   "outputs": [],
   "source": [
    "# cable direction vectors\n",
    "dc1=(bp1r-pp1r)/norm((bp1r-pp1r))\n",
    "dc2=(bp2r-pp2r)/norm((bp2r-pp2r))\n",
    "dc3=(bp3r-pp3r)/norm((bp3r-pp3r))\n",
    "dc4=(bp4r-pp4r)/norm((bp4r-pp4r))\n",
    "# Cable momentums\n",
    "vc1=bp1r.cross_product(dc1)\n",
    "vc2=bp2r.cross_product(dc2)\n",
    "vc3=bp3r.cross_product(dc3)\n",
    "vc4=bp4r.cross_product(dc4)"
   ]
  },
  {
   "cell_type": "code",
   "execution_count": 92,
   "metadata": {
    "tags": []
   },
   "outputs": [],
   "source": [
    "# Planar screw antagonistic cables system normal vector 1\n",
    "# base\n",
    "lbv1=line([[bp1[0],bp1[2]],[bp2[0],bp2[2]]],color='blue',thickness=3)\n",
    "pbp1=point([bp1[0],bp1[2]],size=50)+text(r\"$P_{b1}$\",(bp1[0],bp1[2]+7),fontsize=14)\n",
    "pbp2=point([bp2[0],bp2[2]],size=50)+text(r\"$P_{b2}$\",(bp2[0],bp2[2]+7),fontsize=14)\n",
    "ppo=point([PO[0],PO[2]],size=50)+text(r\"$P_O$\",(7,7),fontsize=14)\n",
    "bsxz=lbv1+pbp1+pbp2+ppo\n",
    "# platform\n",
    "lpv1=line([[pp1[0],pp1[2]],[pp2[0],pp2[2]]],color='blue',thickness=3)\n",
    "ppp1=point([pp1[0],pp1[2]],size=50)+text(r\"$P_{p1}$\",(pp1[0],pp1[2]-7),fontsize=14)\n",
    "ppp2=point([pp2[0],pp2[2]],size=50)+text(r\"$P_{p2}$\",(pp2[0],pp2[2]-7),fontsize=14)\n",
    "ppf0=point([pf0[0],pf0[2]],size=50)+text(r\"$P_M$\",(pf0[0]+7,pf0[2]+7),fontsize=14)\n",
    "ptxz=lpv1+ppp1+ppp2+ppf0\n",
    "# cables\n",
    "lc1v1=line([[bp1[0],bp1[2]],[pp1[0],pp1[2]]],color='gray',thickness=2)\n",
    "lc2v1=line([[bp2[0],bp2[2]],[pp2[0],pp2[2]]],color='gray',thickness=2)\n",
    "\n",
    "pr1d=point([r1d[0],r1d[2]],size=100,color='red')+text(r\"$\\$_{34}$\",(r1d[0]+7,r1d[2]+7),fontsize=14)\n",
    "pr2d=point([r2d[0],r2d[2]],size=50)+text(r\"$\\$_{12}$\",(r2d[0]+7,r2d[2]-7),fontsize=14)\n",
    "\n",
    "# screws\n",
    "arv2=arrow((r2d[0],r2d[2]),(r2d[0]+30*w2d[0],r2d[2]+30*w2d[2]))\n",
    "arc1=arrow((pp1[0],pp1[2]),(pp1[0]+30*dc1[0],pp1[2]+30*dc1[2]))+text(r\"$\\$_1$\",(pp1[0]+7,pp1[2]+7),fontsize=14)\n",
    "arc2=arrow((pp2[0],pp2[2]),(pp2[0]+30*dc2[0],pp2[2]+30*dc2[2]))+text(r\"$\\$_2$\",(pp2[0]-7,pp2[2]+7),fontsize=14)\n",
    "lrp1=line([[r1d[0],r1d[2]],[pp1[0],pp1[2]]],thickness=1,linestyle='--')\n",
    "lrp2=line([[r1d[0],r1d[2]],[pp2[0],pp2[2]]],thickness=1,linestyle='--')\n",
    "# Plot schematic on xz plane\n",
    "plxz=bsxz+ptxz+lc1v1+lc2v1+kcnd+arv2+lrp1+lrp2+arc1+arc2\n",
    "# plxz.save(\"scrwsim.svg\",dpi=600,fig_tight=False,fontsize=14)\n",
    "# plxz.show(fig_tight=False,fontsize=14)\n"
   ]
  },
  {
   "cell_type": "code",
   "execution_count": 93,
   "metadata": {
    "tags": []
   },
   "outputs": [],
   "source": [
    "# Planar screw antagonistic cables system normal vector 2\n",
    "# base\n",
    "lbv2=line([[bp3[1],bp3[2]],[bp4[1],bp4[2]]],color='blue',thickness=3)\n",
    "pbp3=point([bp3[1],bp3[2]],size=50)+text(r\"$P_{b3}$\",(bp3[1],bp3[2]+7),fontsize=14)\n",
    "pbp4=point([bp4[1],bp4[2]],size=50)+text(r\"$P_{b4}$\",(bp4[1],bp4[2]+7),fontsize=14)\n",
    "ppo=point([PO[1],PO[2]],size=50)+text(r\"$P_O$\",(7,7),fontsize=14)\n",
    "bsyz=lbv2+pbp3+pbp4+ppo\n",
    "# platform\n",
    "lpv2=line([[pp3[1],pp3[2]],[pp4[1],pp4[2]]],color='blue',thickness=3)\n",
    "ppp3=point([pp3[1],pp3[2]],size=50)+text(r\"$P_{p3}$\",(pp3[1],pp3[2]-7),fontsize=14)\n",
    "ppp4=point([pp4[1],pp4[2]],size=50)+text(r\"$P_{p4}$\",(pp4[1],pp4[2]-7),fontsize=14)\n",
    "ppf0=point([pf0[1],pf0[2]],size=50)+text(r\"$P_M$\",(pf0[1]+7,pf0[2]+7),fontsize=14)\n",
    "ptyz=lpv2+ppp3+ppp4+ppf0\n",
    "# cables\n",
    "lc1v2=line([[bp3[1],bp3[2]],[pp3[1],pp3[2]]],color='gray',thickness=2)\n",
    "lc2v2=line([[bp4[1],bp4[2]],[pp4[1],pp4[2]]],color='gray',thickness=2)\n",
    "# screws\n",
    "arv1=arrow((r1d[1],r1d[2]),(r1d[1]+30*w1d[1],r1d[2]+30*w1d[2]))\n",
    "arc3=arrow((pp3[1],pp3[2]),(pp3[1]+30*dc3[1],pp3[2]+30*dc3[2]))+text(r\"$\\$_3$\",(pp3[1]-7,pp3[2]+7),fontsize=14)\n",
    "arc4=arrow((pp4[1],pp4[2]),(pp4[1]+30*dc4[1],pp4[2]+30*dc4[2]))+text(r\"$\\$_4$\",(pp4[1]+7,pp4[2]+7),fontsize=14)\n",
    "lrp3=line([[r2d[1],r2d[2]],[pp3[1],pp3[2]]],thickness=1,linestyle='--')\n",
    "lrp4=line([[r2d[1],r2d[2]],[pp4[1],pp4[2]]],thickness=1,linestyle='--')\n",
    "# Plot schematic on xz plane\n",
    "plyz=bsyz+ptyz+lc1v2+lc2v2+kcnd+arv1+lrp3+lrp4+arc3+arc4\n",
    "# plyz.save(\"scrwsim2.svg\",dpi=600,fig_tight=False,fontsize=14)\n",
    "# plyz.show(fig_tight=False,fontsize=14)\n"
   ]
  },
  {
   "cell_type": "code",
   "execution_count": 94,
   "metadata": {
    "tags": []
   },
   "outputs": [
    {
     "name": "stdout",
     "output_type": "stream",
     "text": [
      "Base point 1: (85.08, 85.08, 0.0000)\n",
      "Base point 2: (-85.08, -85.08, 0.0000)\n",
      "Base point 3: (85.08, -85.08, 0.0000)\n",
      "Base point 4: (-85.08, 85.08, 0.0000)\n",
      "Platform point 1: (65.45, 65.45, -149.0)\n",
      "Platform point 2: (-65.45, -65.45, -149.0)\n",
      "Platform point 3: (65.45, -65.45, -149.0)\n",
      "Platform point 4: (-65.45, 65.45, -149.0)\n",
      "Kinematic chain origin: (0.0000, 0.0000, 0.0000)\n",
      "Kinematic chain rotational 1: (0.0000, 0.0000, -80.64)\n",
      "Kinematic chain rotational 2: (0.0000, 0.0000, -85.64)\n",
      "Kinematic chain platform center: (0.0000, 0.0000, -149.0)\n",
      "Screw hinge 1: (0.0000, 1.000, 0.0000) (80.64, -0.0000, 0.0000)\n",
      "Screw hinge 2: (1.000, 0.0000, 0.0000) (0.0000, -85.64, 0.0000)\n"
     ]
    }
   ],
   "source": [
    "# Print the points and vectors\n",
    "print(\"Base point 1:\",bp1r.n(digits=4))\n",
    "print(\"Base point 2:\",bp2r.n(digits=4))\n",
    "print(\"Base point 3:\",bp3r.n(digits=4))\n",
    "print(\"Base point 4:\",bp4r.n(digits=4))\n",
    "print(\"Platform point 1:\",pp1r.n(digits=4))\n",
    "print(\"Platform point 2:\",pp2r.n(digits=4))\n",
    "print(\"Platform point 3:\",pp3r.n(digits=4))\n",
    "print(\"Platform point 4:\",pp4r.n(digits=4))\n",
    "print(\"Kinematic chain origin:\",PO.n(digits=4))\n",
    "print(\"Kinematic chain rotational 1:\",r1d.n(digits=4))\n",
    "print(\"Kinematic chain rotational 2:\",r2d.n(digits=4))\n",
    "print(\"Kinematic chain platform center:\",pf0.n(digits=4))\n",
    "print(\"Screw hinge 1:\",w1d.n(digits=4),v1d.n(digits=4))\n",
    "print(\"Screw hinge 2:\",w2d.n(digits=4),v2d.n(digits=4))"
   ]
  },
  {
   "cell_type": "code",
   "execution_count": 95,
   "metadata": {
    "tags": []
   },
   "outputs": [],
   "source": [
    "#assemble the six dimensional vectors\n",
    "from itertools import chain\n",
    "# Screws for the axis\n",
    "scrw1 =vector(chain(w1d,v1d))\n",
    "scrw2 =vector(chain(w2d,v2d))\n",
    "# screws for the cables\n",
    "scrc1 =vector(chain(dc1,vc1))\n",
    "scrc2 =vector(chain(dc2,vc2))\n",
    "scrc3 =vector(chain(dc3,vc3))\n",
    "scrc4 =vector(chain(dc4,vc4))"
   ]
  },
  {
   "cell_type": "code",
   "execution_count": 96,
   "metadata": {
    "scrolled": true,
    "tags": []
   },
   "outputs": [
    {
     "name": "stdout",
     "output_type": "stream",
     "text": [
      "Reciprocals 6745.0 -6745.0 -6745.0 6745.0\n",
      "Sum: 0.00000\n"
     ]
    }
   ],
   "source": [
    "# reciprocal product from cables to axis 1\n",
    "rp1w1=scrc1*scrw1\n",
    "rp2w1=scrc2*scrw1\n",
    "rp3w1=scrc3*scrw1\n",
    "rp4w1=scrc4*scrw1\n",
    "spw1=rp1w1+rp2w1+rp3w1+rp4w1\n",
    "print(\"Reciprocals\",rp1w1.n(digits=5),rp2w1.n(digits=5),rp3w1.n(digits=5),rp4w1.n(digits=5))\n",
    "print(\"Sum:\",spw1.n(digits=5))\n",
    "# Torus rotation  hinge 1 direction\n",
    "if spw1 == 0:\n",
    "    tr1=Torus(R=10,r=1,color='gray').rotate(v1d,pi/2).translate(r1d+w1d*25)\n",
    "elif spw1 > 0:\n",
    "    tr1=Torus(R=10,r=1,color='blue').rotate(v1d,pi/2).translate(r1d+w1d*25)\n",
    "elif spw1 < 0:\n",
    "    tr1=Torus(R=10,r=1,color='red').rotate(v1d,pi/2).translate(r1d+w1d*25)"
   ]
  },
  {
   "cell_type": "code",
   "execution_count": 97,
   "metadata": {},
   "outputs": [
    {
     "name": "stdout",
     "output_type": "stream",
     "text": [
      "Reciprocals 7163.2 -7163.2 7163.2 -7163.2\n",
      "Sum: 0.00000\n"
     ]
    }
   ],
   "source": [
    "# reciprocal product from cables to axis 2\n",
    "rp1w2=scrc1*scrw2\n",
    "rp2w2=scrc2*scrw2\n",
    "rp3w2=scrc3*scrw2\n",
    "rp4w2=scrc4*scrw2\n",
    "spw2=rp1w2+rp2w2+rp3w2+rp4w2\n",
    "print(\"Reciprocals\",rp1w2.n(digits=5),rp2w2.n(digits=5),rp3w2.n(digits=5),rp4w2.n(digits=5))\n",
    "print(\"Sum:\",spw2.n(digits=5))\n",
    "\n",
    "# Torus rotation  hinge 1 direction\n",
    "if spw2 == 0:\n",
    "    tr2=Torus(R=10,r=1,color='gray').rotate(v2d,pi/2).translate(r2d+w2d*25)\n",
    "elif spw2 > 0:\n",
    "    tr2=Torus(R=10,r=1,color='blue').rotate(v2d,pi/2).translate(r2d+w2d*25)\n",
    "elif spw2 < 0 :\n",
    "    tr2=Torus(R=10,r=1,color='red').rotate(v2d,pi/2).translate(r2d+w2d*25)"
   ]
  },
  {
   "cell_type": "code",
   "execution_count": 98,
   "metadata": {},
   "outputs": [],
   "source": [
    "# base Graphic representation\n",
    "tbs=Torus(R=rbr,r=2)\n",
    "dbp1=dot.translate(bp1r)\n",
    "dbp2=dot.translate(bp2r)\n",
    "lb12=line([bp1r,PO, bp2r], radius=2)\n",
    "dbp3=dot.translate(bp3r)\n",
    "dbp4=dot.translate(bp4r)\n",
    "lb34=line([bp3r,PO, bp4r], radius=2)\n",
    "bplt=tbs+dbp1+dbp2+lb12+dbp3+dbp4+lb34+dPO\n",
    "# platform Graphic representation\n",
    "tps=Torus(R=rpr,r=2,color='firebrick').translate(pf0)\n",
    "dpp1=dot.translate(pp1r)\n",
    "dpp2=dot.translate(pp2r)\n",
    "lp12=line([pp1r,pf0, pp2r], radius=2)\n",
    "dpp3=dot.translate(pp3r)\n",
    "dpp4=dot.translate(pp4r)\n",
    "dpf0=dot2.translate(pf0)\n",
    "lp34=line([pp3r,pf0, pp4r], radius=2)\n",
    "pplt=tps+dpp1+dpp2+lp12+dpp3+dpp4+lp34+dpf0\n",
    "# kinematic chain\n",
    "lsk=line([PO,r1d],radius=3, color='pink')\n",
    "lts=line([r1d,r2d],radius=3, color='pink')\n",
    "lft=line([r1d,pf0],radius=3, color='pink')\n",
    "arw1=arrow(r1d,r1d+w1d*50,radius=1,color='darkgreen')\n",
    "arw2=arrow(r2d,r2d+w2d*50,radius=1,color='darkblue')\n",
    "dkc=lsk+lts+lft+arw1+arw2+tr1+tr2\n",
    "# Cables\n",
    "c1d=line([bp1r,pp1r],radius=0.5, color='grey')\n",
    "c2d=line([bp2r,pp2r],radius=0.5, color='grey')\n",
    "c3d=line([bp3r,pp3r],radius=0.5, color='grey')\n",
    "c4d=line([bp4r,pp4r],radius=0.5, color='grey')\n",
    "cbld=c1d+c2d+c3d+c4d\n",
    "# Arrows cable direction]\n",
    "ac1=arrow(pp1r,pp1r+dc1*50,radius=1,color='darkblue')\n",
    "ac2=arrow(pp2r,pp2r+dc2*50,radius=1,color='darkblue')\n",
    "ac3=arrow(pp3r,pp3r+dc3*50,radius=1,color='green')\n",
    "ac4=arrow(pp4r,pp4r+dc4*50,radius=1,color='green')\n",
    "# foot wide collision sphere\n",
    "rdmx = sphere(r1d,fw/2, color='pink',opacity=0.5)\n",
    "# Dummy configuration 1\n",
    "dconf1=dkc+cbld+pplt+bplt+ac1+ac2+ac3+ac4 #+rdmx\n",
    "# dconf1.show()\n",
    "# dconf1.show(viewer='tachyon', \n",
    "#           figsize=[20,20], # the image resolution is 100 figsize \n",
    "#           camera_position=[3, 4, 3], # a distant camera position combined with \n",
    "#           zoom=2.45, # a large zoom factor will decrease perspective distortion.  \n",
    "#           viewdir=(-2.77,-3.7,-2.8), # slightly off-center\n",
    "#           frame=false,\n",
    "#           axes = false,\n",
    "#           aspect_ratio=[1,1,1],)"
   ]
  },
  {
   "cell_type": "markdown",
   "metadata": {},
   "source": [
    "## Attaching points angle configuration"
   ]
  },
  {
   "cell_type": "code",
   "execution_count": 99,
   "metadata": {
    "tags": []
   },
   "outputs": [
    {
     "name": "stdout",
     "output_type": "stream",
     "text": [
      "w1,v1 = (-0.103, 0.979, 0.174) (106., 11.1, 0.000)\n",
      "w2,v2 = (0.738, 0.208, 0.642) (23.2, -84.5, 0.682)\n"
     ]
    }
   ],
   "source": [
    "# replace by mean values\n",
    "w1=w1me\n",
    "v1=v1me\n",
    "w2=w2me\n",
    "v2=v2me\n",
    "\n",
    "# replace by maximum values\n",
    "# w1=w1ma\n",
    "# v1=v1ma\n",
    "# w2=w2ma\n",
    "# v2=v2ma\n",
    "\n",
    "# replace by minimum values\n",
    "# w1=w1mi\n",
    "# v1=v1mi\n",
    "# w2=w2mi\n",
    "# v2=v2mi\n",
    "print(\"w1,v1 =\",w1.n(digits=3),v1.n(digits=3))\n",
    "print(\"w2,v2 =\",w2.n(digits=3),v2.n(digits=3))"
   ]
  },
  {
   "cell_type": "code",
   "execution_count": 100,
   "metadata": {},
   "outputs": [
    {
     "name": "stdout",
     "output_type": "stream",
     "text": [
      "Angles in radians: 0.70045 0.87035\n",
      "Angles in degrees: 40.13 49.87\n"
     ]
    }
   ],
   "source": [
    "#plane 1\n",
    "np1=w1.cross_product(vz)\n",
    "#plane 2\n",
    "np2=w2.cross_product(vz)\n",
    "den=norm(np1)*norm(np2)\n",
    "np1d2=np1.dot_product(np2)/den\n",
    "#half angle gamma\n",
    "gmh1=arccos(np1d2)/2\n",
    "gmh2=(pi/2-gmh1)\n",
    "print(\"Angles in radians:\",gmh1.n(digits=5),gmh2.n(digits=5))\n",
    "print(\"Angles in degrees:\",(gmh1*180/pi).n(digits=4),(gmh2*180/pi).n(digits=4))"
   ]
  },
  {
   "cell_type": "code",
   "execution_count": 101,
   "metadata": {},
   "outputs": [
    {
     "name": "stdout",
     "output_type": "stream",
     "text": [
      "Normal vectors:  (814.89, -552.28, 0.00000) (-430.17, -634.71, 0.00000)\n"
     ]
    }
   ],
   "source": [
    "#half angle rotation about z axis\n",
    "w1r=np1*rotate_arbitrary(vz,-gmh1)\n",
    "w2r=np2*rotate_arbitrary(vz,-gmh2)\n",
    "print(\"Normal vectors: \",w1r.n(digits=5),w2r.n(digits=5))"
   ]
  },
  {
   "cell_type": "markdown",
   "metadata": {},
   "source": [
    "The intersection between the circle centered on the pivot point and the line direction with vector directions normal to the half planes."
   ]
  },
  {
   "cell_type": "code",
   "execution_count": 102,
   "metadata": {},
   "outputs": [
    {
     "name": "stdout",
     "output_type": "stream",
     "text": [
      "Attaching point platform w1 left: (-76.52, 51.02, -176.2)\n"
     ]
    }
   ],
   "source": [
    "#circle intersection on platform\n",
    "lr1=(x-xp)/w1r[0]==(y-yp)/w1r[1]\n",
    "cr1=y==sqrt(rpr^2-(x-PMi[0])^2)+PMi[1]\n",
    "sxyp=solve([lr1,cr1],x,y)\n",
    "xpl=sxyp[0][0].rhs()\n",
    "ypl=sxyp[0][1].rhs()\n",
    "zpl=PMi[2]\n",
    "aplf1=vector([xpl,ypl,zpl])\n",
    "tapl1=text3d(\"aplf1\", aplf1 +txo, color=(0.5,0,0))\n",
    "papl1=dot.translate(aplf1) + tapl1\n",
    "print(\"Attaching point platform w1 left:\",(xpl.n(digits=4),ypl.n(digits=4),zpl.n(digits=4)))"
   ]
  },
  {
   "cell_type": "code",
   "execution_count": 103,
   "metadata": {},
   "outputs": [
    {
     "name": "stdout",
     "output_type": "stream",
     "text": [
      "Angle configuration attaching point 1 rad: 2.5536 deg: 146.31\n"
     ]
    }
   ],
   "source": [
    "# angle rep for attachng point 1\n",
    "tap1=atan2(aplf1[1],aplf1[0]).n()\n",
    "cap1=parametric_plot([0.2*rpr*cos(t)+PMi[0],0.2*rpr*sin(t)+PMi[1]],(t,0,tap1),color='rosybrown',thickness=0.5)\n",
    "print(\"Angle configuration attaching point 1\",\"rad:\",tap1.n(digits=5),\"deg:\",(tap1*180/pi).n(digits=5))"
   ]
  },
  {
   "cell_type": "code",
   "execution_count": 104,
   "metadata": {},
   "outputs": [
    {
     "name": "stdout",
     "output_type": "stream",
     "text": [
      "Attaching point platform w1 rigth: (76.72, -52.84, -176.2)\n"
     ]
    }
   ],
   "source": [
    "#circle intersection on platform\n",
    "lr2=(x-xp)/w1r[0]==(y-yp)/w1r[1]\n",
    "cr2=y==-sqrt(rpr^2-(x-PMi[0])^2)+PMi[1]\n",
    "sxyp=solve([lr2,cr2],x,y)\n",
    "xpr=sxyp[0][0].rhs()\n",
    "ypr=sxyp[0][1].rhs()\n",
    "zpr=PMi[2]\n",
    "aprf1=vector([xpr,ypr,zpr])\n",
    "tapr1=text3d(\"aprf1\", aprf1 +txo, color=(0.5,0,0))\n",
    "papr1=dot.translate(aprf1)+tapr1\n",
    "print(\"Attaching point platform w1 rigth:\",(xpr.n(digits=4),ypr.n(digits=4),zpr.n(digits=4)))"
   ]
  },
  {
   "cell_type": "code",
   "execution_count": 105,
   "metadata": {},
   "outputs": [
    {
     "name": "stdout",
     "output_type": "stream",
     "text": [
      "Angle configuration attaching point 2 rad: -0.60314 deg: -34.557\n"
     ]
    }
   ],
   "source": [
    "# angle rep for attachng point 2\n",
    "tap2=atan2(aprf1[1],aprf1[0]).n()\n",
    "cap2=parametric_plot([0.3*rpr*cos(t)+PMi[0],0.3*rpr*sin(t)+PMi[1]],(t,tap2,0),color='goldenrod',thickness=0.5)\n",
    "print(\"Angle configuration attaching point 2\",\"rad:\",tap2.n(digits=5),\"deg:\",(tap2*180/pi).n(digits=5))"
   ]
  },
  {
   "cell_type": "code",
   "execution_count": 106,
   "metadata": {},
   "outputs": [
    {
     "name": "stdout",
     "output_type": "stream",
     "text": [
      "Attaching point platform w2 left: (52.03, 75.71, -176.2)\n"
     ]
    }
   ],
   "source": [
    "#circle intersection on platform\n",
    "lr3=(x-xp)/w2r[0]==(y-yp)/w2r[1]\n",
    "cr3=y==sqrt(rpr^2-(x-PMi[0])^2)+PMi[1]\n",
    "sxyp=solve([lr3,cr3],x,y)\n",
    "xpl=sxyp[0][0].rhs()\n",
    "ypl=sxyp[0][1].rhs()\n",
    "zpl=PMi[2]\n",
    "aplf2=vector([xpl,ypl,zpl])\n",
    "tapl2=text3d(\"aplf2\", aplf2 +txo, color=(0.5,0,0))\n",
    "papl2=dot.translate(aplf2)+tapl2\n",
    "print(\"Attaching point platform w2 left:\",(xpl.n(digits=4),ypl.n(digits=4),zpl.n(digits=4)))"
   ]
  },
  {
   "cell_type": "code",
   "execution_count": 107,
   "metadata": {},
   "outputs": [
    {
     "name": "stdout",
     "output_type": "stream",
     "text": [
      "Angle configuration attaching point 3 rad: 0.96873 deg: 55.504\n"
     ]
    }
   ],
   "source": [
    "# angle rep for attachng point 3\n",
    "tap3=atan2(aplf2[1],aplf2[0]).n()\n",
    "cap3=parametric_plot([0.4*rpr*cos(t)+PMi[0],0.4*rpr*sin(t)+PMi[1]],(t,0,tap3),color='mediumturquoise',thickness=0.5)\n",
    "print(\"Angle configuration attaching point 3\",\"rad:\",tap3.n(digits=5),\"deg:\",(tap3*180/pi).n(digits=5))"
   ]
  },
  {
   "cell_type": "code",
   "execution_count": 108,
   "metadata": {},
   "outputs": [
    {
     "name": "stdout",
     "output_type": "stream",
     "text": [
      "Attaching point platform w2 rigth: (-51.83, -77.53, -176.2)\n"
     ]
    }
   ],
   "source": [
    "#circle intersection on platform\n",
    "lr4=(x-xp)/w2r[0]==(y-yp)/w2r[1]\n",
    "cr4=y==-sqrt(rpr^2-(x-PMi[0])^2)+PMi[1]\n",
    "sxyp=solve([lr4,cr4],x,y)\n",
    "xpr=sxyp[0][0].rhs()\n",
    "ypr=sxyp[0][1].rhs()\n",
    "zpr=PMi[2]\n",
    "aprf2=vector([xpr,ypr,zpr])\n",
    "tapf2=text3d(\"aprf2\", aprf2 +txo, color=(0.5,0,0))\n",
    "papr2=dot.translate(aprf2)+tapf2\n",
    "print(\"Attaching point platform w2 rigth:\",(xpr.n(digits=4),ypr.n(digits=4),zpr.n(digits=4)))"
   ]
  },
  {
   "cell_type": "code",
   "execution_count": 109,
   "metadata": {},
   "outputs": [
    {
     "name": "stdout",
     "output_type": "stream",
     "text": [
      "Angle configuration attaching point 4 rad: -2.1601 deg: -123.76\n"
     ]
    }
   ],
   "source": [
    "# angle rep for attachng point 4\n",
    "tap4=atan2(aprf2[1],aprf2[0]).n()\n",
    "cap4=parametric_plot([0.5*rpr*cos(t)+PMi[0],0.5*rpr*sin(t)+PMi[1]],(t,tap4,0),color='mediumpurple',thickness=0.5)\n",
    "print(\"Angle configuration attaching point 4\",\"rad:\",tap4.n(digits=5),\"deg:\",(tap4*180/pi).n(digits=5))"
   ]
  },
  {
   "cell_type": "code",
   "execution_count": 110,
   "metadata": {},
   "outputs": [
    {
     "name": "stdout",
     "output_type": "stream",
     "text": [
      "Attaching point base w1 left: (-99.51, 66.59, 0.0000)\n"
     ]
    }
   ],
   "source": [
    "#circle intersection on the base\n",
    "lr1=(x-xp)/w1r[0]==(y-yp)/w1r[1]\n",
    "cr1=y==sqrt(rbr^2-(x-POi[0])^2)+POi[1]\n",
    "sxyp=solve([lr1,cr1],x,y)\n",
    "xbl=sxyp[0][0].rhs()\n",
    "ybl=sxyp[0][1].rhs()\n",
    "zbl=POi[2]\n",
    "ablf1=vector([xbl,ybl,zbl])\n",
    "tabf1=text3d(\"ablf1\", ablf1 +txo, color=(0.5,0,0))\n",
    "pabl1=dot.translate(ablf1)+tabf1\n",
    "print(\"Attaching point base w1 left:\",(xbl.n(digits=4),ybl.n(digits=4),zbl.n(digits=4)))"
   ]
  },
  {
   "cell_type": "code",
   "execution_count": 111,
   "metadata": {},
   "outputs": [
    {
     "name": "stdout",
     "output_type": "stream",
     "text": [
      "Attaching point base w1 rigth: (99.70, -68.42, 0.0000)\n"
     ]
    }
   ],
   "source": [
    "#circle intersection on the base\n",
    "lr2=(x-xp)/w1r[0]==(y-yp)/w1r[1]\n",
    "cr2=y==-sqrt(rbr^2-(x-POi[0])^2)+POi[1]\n",
    "sxyp=solve([lr2,cr2],x,y)\n",
    "xbr=sxyp[0][0].rhs()\n",
    "ybr=sxyp[0][1].rhs()\n",
    "zbr=POi[2]\n",
    "abrf1=vector([xbr,ybr,zbr])\n",
    "tabrf1=text3d(\"abrf1\", abrf1 +txo, color=(0.5,0,0))\n",
    "pabr1=dot.translate(abrf1)+tabrf1\n",
    "print(\"Attaching point base w1 rigth:\",(xbr.n(digits=4),ybr.n(digits=4),zbr.n(digits=4)))"
   ]
  },
  {
   "cell_type": "code",
   "execution_count": 112,
   "metadata": {},
   "outputs": [
    {
     "name": "stdout",
     "output_type": "stream",
     "text": [
      "Attaching point base w2 left: (67.60, 98.69, 0.0000)\n"
     ]
    }
   ],
   "source": [
    "#circle intersection on the base\n",
    "lr3=(x-xp)/w2r[0]==(y-yp)/w2r[1]\n",
    "cr3=y==sqrt(rbr^2-(x-POi[0])^2)+POi[1]\n",
    "sxyp=solve([lr3,cr3],x,y)\n",
    "xbl=sxyp[0][0].rhs()\n",
    "ybl=sxyp[0][1].rhs()\n",
    "zbl=POi[2]\n",
    "ablf2=vector([xbl,ybl,zbl])\n",
    "tabl2=text3d(\"ablf2\", ablf2 +txo, color=(0.5,0,0))\n",
    "pabl2=dot.translate(ablf2)+tabl2\n",
    "print(\"Attaching point base w2 left:\",(xbl.n(digits=4),ybl.n(digits=4),zbl.n(digits=4)))"
   ]
  },
  {
   "cell_type": "code",
   "execution_count": 113,
   "metadata": {},
   "outputs": [
    {
     "name": "stdout",
     "output_type": "stream",
     "text": [
      "Attaching point base w2 rigth: (-67.41, -100.5, 0.0000)\n"
     ]
    }
   ],
   "source": [
    "#circle intersection on the base\n",
    "lr4=(x-xp)/w2r[0]==(y-yp)/w2r[1]\n",
    "cr4=y==-sqrt(rbr^2-(x-POi[0])^2)+POi[1]\n",
    "sxyp=solve([lr4,cr4],x,y)\n",
    "xbr=sxyp[0][0].rhs()\n",
    "ybr=sxyp[0][1].rhs()\n",
    "zbr=POi[2]\n",
    "abrf2=vector([xbr,ybr,zbr])\n",
    "tabrf2=text3d(\"abrf2\", abrf2 +txo, color=(0.5,0,0))\n",
    "pabr2=dot.translate(abrf2)+tabrf2\n",
    "print(\"Attaching point base w2 rigth:\",(xbr.n(digits=4),ybr.n(digits=4),zbr.n(digits=4)))"
   ]
  },
  {
   "cell_type": "code",
   "execution_count": 114,
   "metadata": {},
   "outputs": [],
   "source": [
    "#points position reconfiguration\n",
    "gplt=papl1+papr1+papl2+papr2\n",
    "gbas=pabl1+pabr1+pabl2+pabr2\n",
    "gcfg=gplt+gbas"
   ]
  },
  {
   "cell_type": "code",
   "execution_count": 115,
   "metadata": {
    "tags": []
   },
   "outputs": [],
   "source": [
    "#projected lines base\n",
    "lbf1=line3d([ablf1,abrf1],color='olive')\n",
    "lbf2=line3d([ablf2,abrf2],color='olive')\n",
    "#projected lines platform\n",
    "lpf1=line3d([aplf1,aprf1],color='olive')\n",
    "lpf2=line3d([aplf2,aprf2],color='olive')\n",
    "#cables\n",
    "lcl1=line3d([ablf1,aplf1],color='violet')\n",
    "lcr1=line3d([abrf1,aprf1],color='violet')\n",
    "lcl2=line3d([ablf2,aplf2],color='violet')\n",
    "lcr2=line3d([abrf2,aprf2],color='violet')\n",
    "gcbl=lcl1+lcr1+lcl2+lcr2\n",
    "# Angles\n",
    "gangl=cap1+cap2+cap3+cap4\n",
    "#ankle serial kinematics\n",
    "ankj=kchn+lbf1+lbf2+lpf1+lpf2+gcbl\n",
    "grc=gcfg+ankj+xyzax(-50,50,-50,50,-50,50)+gangl\n",
    "# grc.show()\n",
    "# grc.show(viewer='tachyon', \n",
    "#           figsize=[20,20], # the image resolution is 100 figsize \n",
    "#           camera_position=[4, 5, 3.8], # a distant camera position combined with \n",
    "#           zoom=3.4, # a large zoom factor will decrease perspective distortion.  \n",
    "#           viewdir=(-4.1,-5.1,-4.1), # slightly off-center\n",
    "#           frame=false,\n",
    "#           axes = false,\n",
    "#           aspect_ratio=[1,1,1],)"
   ]
  },
  {
   "cell_type": "code",
   "execution_count": 116,
   "metadata": {},
   "outputs": [
    {
     "name": "stdout",
     "output_type": "stream",
     "text": [
      "Segment lengths: 108.44 4.5946 64.279\n",
      "Base: 120.33 Platform: 92.558\n"
     ]
    }
   ],
   "source": [
    "#segments\n",
    "lsg1=norm(r_1i-POi)\n",
    "lsg2=norm(r_2i-r_1i)\n",
    "lsg3=norm(PMi-r_2i)\n",
    "print(\"Segment lengths:\",lsg1.n(digits=5),lsg2.n(digits=5),lsg3.n(digits=5))\n",
    "print(\"Base:\",rbr.n(digits=5),\"Platform:\",rpr.n(digits=5))"
   ]
  },
  {
   "cell_type": "code",
   "execution_count": 117,
   "metadata": {},
   "outputs": [],
   "source": [
    "#attaching points initial position aligned to origin reference frame\n",
    "gaprf1=matrix([[1,0,0,aprf1[0]],[0,1,0,aprf1[1]],[0,0,1,aprf1[2]],[0,0,0,1]])\n",
    "gaplf1=matrix([[1,0,0,aplf1[0]],[0,1,0,aplf1[1]],[0,0,1,aplf1[2]],[0,0,0,1]])\n",
    "gaprf2=matrix([[1,0,0,aprf2[0]],[0,1,0,aprf2[1]],[0,0,1,aprf2[2]],[0,0,0,1]])\n",
    "gaplf2=matrix([[1,0,0,aplf2[0]],[0,1,0,aplf2[1]],[0,0,1,aplf2[2]],[0,0,0,1]])\n",
    "gPMi=matrix([[1,0,0,PMi[0]],[0,1,0,PMi[1]],[0,0,1,PMi[2]],[0,0,0,1]])\n",
    "\n",
    "#product of exponential matrix for the attaching point right line 1\n",
    "Maprf1=MTH1*MTH2*gaprf1\n",
    "#components of the platform vertices\n",
    "f_xr1=Maprf1[0][3]\n",
    "f_yr1=Maprf1[1][3]\n",
    "f_zr1=Maprf1[2][3]\n",
    "\n",
    "#product of exponential matrix for the attaching point left line 1\n",
    "Maplf1=MTH1*MTH2*gaplf1\n",
    "#components of the platform vertices\n",
    "f_xl1=Maplf1[0][3]\n",
    "f_yl1=Maplf1[1][3]\n",
    "f_zl1=Maplf1[2][3]\n",
    "\n",
    "#product of exponential matrix for the attaching point right line 2\n",
    "Maprf2=MTH1*MTH2*gaprf2\n",
    "#components of the platform vertices\n",
    "f_xr2=Maprf2[0][3]\n",
    "f_yr2=Maprf2[1][3]\n",
    "f_zr2=Maprf2[2][3]\n",
    "\n",
    "#product of exponential matrix for the attaching point left line 1\n",
    "Maplf2=MTH1*MTH2*gaplf2\n",
    "#components of the platform vertices\n",
    "f_xl2=Maplf2[0][3]\n",
    "f_yl2=Maplf2[1][3]\n",
    "f_zl2=Maplf2[2][3]\n",
    "\n",
    "#point r2_i transformation\n",
    "gr_2i=matrix([[1,0,0,r_2i[0]],[0,1,0,r_2i[1]],[0,0,1,r_2i[2]],[0,0,0,1]])\n",
    "Mr_2i=MTH1*gr_2i\n",
    "f_xr2i=Mr_2i[0][3]\n",
    "f_yr2i=Mr_2i[1][3]\n",
    "f_zr2i=Mr_2i[2][3]\n",
    "\n",
    "# pivot point transformation\n",
    "MPMi=MTH1*MTH2*gPMi\n",
    "f_xPMi=MPMi[0][3]\n",
    "f_yPMi=MPMi[1][3]\n",
    "f_zPMi=MPMi[2][3]"
   ]
  },
  {
   "cell_type": "code",
   "execution_count": 118,
   "metadata": {},
   "outputs": [],
   "source": [
    "#group of movements of the attaching points\n",
    "caprf1=parametric_plot3d([f_xr1, f_yr1, f_zr1],(theta_1, t1min, t1max), \n",
    "                        (theta_2, t2min, t2max),plot_points=[dp,dp])\n",
    "caplf1=parametric_plot3d([f_xl1, f_yl1, f_zl1], (theta_1, t1min, t1max), \n",
    "                       (theta_2, t2min, t2max),plot_points=[dp,dp],texture=\"cyan\")\n",
    "caprf2=parametric_plot3d([f_xr2, f_yr2, f_zr2], (theta_1, t1min, t1max), \n",
    "                       (theta_2, t2min, t2max),plot_points=[dp,dp],texture=\"magenta\")\n",
    "caplf2=parametric_plot3d([f_xl2, f_yl2, f_zl2], (theta_1, t1min, t1max), \n",
    "                       (theta_2, t2min, t2max),plot_points=[dp,dp],texture=\"yellow\")\n",
    "# group of movements of the pivot point\n",
    "caPMi=parametric_plot3d([f_xPMi, f_yPMi, f_zPMi], (theta_1, t1min, t1max), \n",
    "                       (theta_2, t2min, t2max),plot_points=[dp,dp],texture=\"yellow\")\n",
    "\n",
    "grse=caprf1 + caplf1 + caprf2 + caplf2 + caPMi\n",
    "atp= grse + grc \n",
    "\n",
    "# atp.show(viewer='threejs',figsize=[24,24],perspective='orthogonal',zoom=1.5,**kw)\n",
    "# atp.show(viewer='tachyon', \n",
    "#           figsize=[20,20], # the image resolution is 100 figsize \n",
    "#           camera_position=[4, 5, 3.8], # a distant camera position combined with \n",
    "#           zoom=3.4, # a large zoom factor will decrease perspective distortion.  \n",
    "#           viewdir=(-4.1,-5.1,-4), # slightly off-center\n",
    "#           frame=false,\n",
    "#           axes = false,\n",
    "#           aspect_ratio=[1,1,1],)"
   ]
  },
  {
   "cell_type": "markdown",
   "metadata": {},
   "source": [
    "## Cable lenghts at Initial Position\n",
    "The cable lenghts are the difference between the location at the given estimated ankle angles and the base attaching points."
   ]
  },
  {
   "cell_type": "code",
   "execution_count": 119,
   "metadata": {},
   "outputs": [
    {
     "name": "stdout",
     "output_type": "stream",
     "text": [
      "lengths in mm: 178.35 178.35 178.35 178.35\n"
     ]
    }
   ],
   "source": [
    "#initial cable lenghts\n",
    "ilc1=norm(aplf1-ablf1)\n",
    "ilc2=norm(aprf1-abrf1)\n",
    "ilc3=norm(aplf2-ablf2)\n",
    "ilc4=norm(aprf2-abrf2)\n",
    "print(\"lengths in mm:\",ilc1.n(digits=5),ilc2.n(digits=5),ilc3.n(digits=5),ilc4.n(digits=5))\n",
    "#sphere representation\n",
    "spc1=sphere(ablf1,ilc1,opacity=0.3)\n",
    "spc2=sphere(abrf1,ilc2,opacity=0.3)\n",
    "spc3=sphere(ablf2,ilc3,opacity=0.3)\n",
    "spc4=sphere(abrf2,ilc4,opacity=0.3)\n",
    "spcb=spc1+spc2+spc3+spc4\n",
    "dirkin=spcb+atp\n",
    "# dirkin.show()\n",
    "# dirkin.show(viewer='tachyon', \n",
    "#           figsize=[20,20], # the image resolution is 100 figsize \n",
    "#           camera_position=[4, 5, -3.8], # a distant camera position combined with \n",
    "#           zoom=3.4, # a large zoom factor will decrease perspective distortion.  \n",
    "#           viewdir=(-4.1,-5.1,4), # slightly off-center\n",
    "#           frame=false,\n",
    "#           axes = false,\n",
    "#           aspect_ratio=[1,1,1],)"
   ]
  },
  {
   "cell_type": "markdown",
   "metadata": {},
   "source": [
    "## Reconfiguration at Extreme Angles"
   ]
  },
  {
   "cell_type": "code",
   "execution_count": 320,
   "metadata": {},
   "outputs": [
    {
     "data": {
      "text/plain": [
       "(1.361, -0.1503, -112.7)"
      ]
     },
     "execution_count": 320,
     "metadata": {},
     "output_type": "execute_result"
    }
   ],
   "source": [
    "#Attaching points given estimated angles\n",
    "th1=t1max\n",
    "th2=t2max\n",
    "xr2i=f_xr2i.subs(theta_1==th1)\n",
    "yr2i=f_yr2i.subs(theta_1==th1)\n",
    "zr2i=f_zr2i.subs(theta_1==th1)\n",
    "cr2i=vector([xr2i,yr2i,zr2i])\n",
    "dr2i=dot.translate(cr2i)\n",
    "cr2i.n(digits=4)"
   ]
  },
  {
   "cell_type": "code",
   "execution_count": 321,
   "metadata": {},
   "outputs": [
    {
     "data": {
      "text/plain": [
       "(-27.31, 8.175, -169.6)"
      ]
     },
     "execution_count": 321,
     "metadata": {},
     "output_type": "execute_result"
    }
   ],
   "source": [
    "#central point\n",
    "nxpm= f_xpm.subs(theta_1==th1,theta_2==th2)\n",
    "nypm= f_ypm.subs(theta_1==th1,theta_2==th2)\n",
    "nzpm= f_zpm.subs(theta_1==th1,theta_2==th2)\n",
    "napm=vector([nxpm,nypm,nzpm])\n",
    "dnapm=dot.translate(napm)\n",
    "napm.n(digits=4)"
   ]
  },
  {
   "cell_type": "code",
   "execution_count": 322,
   "metadata": {},
   "outputs": [
    {
     "data": {
      "text/plain": [
       "(-103.9, 40.46, -130.3)"
      ]
     },
     "execution_count": 322,
     "metadata": {},
     "output_type": "execute_result"
    }
   ],
   "source": [
    "xap1=f_xl1.subs(theta_1==th1,theta_2==th2)\n",
    "yap1=f_yl1.subs(theta_1==th1,theta_2==th2)\n",
    "zap1=f_zl1.subs(theta_1==th1,theta_2==th2)\n",
    "cap1=vector([xap1,yap1,zap1])\n",
    "dcap1=dot.translate(cap1)\n",
    "cap1.n(digits=4)"
   ]
  },
  {
   "cell_type": "code",
   "execution_count": 323,
   "metadata": {},
   "outputs": [
    {
     "data": {
      "text/plain": [
       "(49.78, -25.83, -209.4)"
      ]
     },
     "execution_count": 323,
     "metadata": {},
     "output_type": "execute_result"
    }
   ],
   "source": [
    "xap2=f_xr1.subs(theta_1==th1,theta_2==th2)\n",
    "yap2=f_yr1.subs(theta_1==th1,theta_2==th2)\n",
    "zap2=f_zr1.subs(theta_1==th1,theta_2==th2)\n",
    "cap2=vector([xap2,yap2,zap2])\n",
    "dcap2=dot.translate(cap2)\n",
    "cap2.n(digits=4)"
   ]
  },
  {
   "cell_type": "code",
   "execution_count": 324,
   "metadata": {},
   "outputs": [
    {
     "data": {
      "text/plain": [
       "(8.315, 92.79, -172.7)"
      ]
     },
     "execution_count": 324,
     "metadata": {},
     "output_type": "execute_result"
    }
   ],
   "source": [
    "xap3=f_xl2.subs(theta_1==th1,theta_2==th2)\n",
    "yap3=f_yl2.subs(theta_1==th1,theta_2==th2)\n",
    "zap3=f_zl2.subs(theta_1==th1,theta_2==th2)\n",
    "cap3=vector([xap3,yap3,zap3])\n",
    "dcap3=dot.translate(cap3)\n",
    "cap3.n(digits=4)"
   ]
  },
  {
   "cell_type": "code",
   "execution_count": 325,
   "metadata": {},
   "outputs": [
    {
     "data": {
      "text/plain": [
       "(-62.48, -78.16, -167.0)"
      ]
     },
     "execution_count": 325,
     "metadata": {},
     "output_type": "execute_result"
    }
   ],
   "source": [
    "xap4=f_xr2.subs(theta_1==th1,theta_2==th2)\n",
    "yap4=f_yr2.subs(theta_1==th1,theta_2==th2)\n",
    "zap4=f_zr2.subs(theta_1==th1,theta_2==th2)\n",
    "cap4=vector([xap4,yap4,zap4])\n",
    "dcap4=dot.translate(cap4)\n",
    "cap4.n(digits=4)"
   ]
  },
  {
   "cell_type": "code",
   "execution_count": 326,
   "metadata": {},
   "outputs": [],
   "source": [
    "#compute total rotation and axis logarithm\n",
    "mtrpm=MPMi.subs(theta_1==th1,theta_2==th2)\n",
    "apmr=acos(0.5*(mtrpm[[0, 1, 2],[0, 1, 2]].trace()-1))\n",
    "skv=0.5*(mtrpm-mtrpm.transpose())/sin(apmr)\n",
    "xskv=skv[1][2]\n",
    "yskv=skv[2][0]\n",
    "zskv=skv[0][1]\n",
    "tskv=vector([xskv,yskv,zskv])\n",
    "xvect=vector([1,0,0])\n",
    "dvecf=arrow3d(PO,rpr*xvect,radius=1,color='red')\n",
    "ntapm=(Torus(rpr,1)+dvecf).rotate(tskv,apmr).translate(napm)\n",
    "ncon=dcap1+dcap2+dcap3+dcap4+dnapm+ntapm+dr2i+grse+radiusmax\n",
    "# ncon.show()\n"
   ]
  },
  {
   "cell_type": "code",
   "execution_count": 327,
   "metadata": {},
   "outputs": [],
   "source": [
    "#graphical structure of the ankle, platform and cable representations\n",
    "#cables\n",
    "lcap1=line3d([ablf1,cap1],color='violet')\n",
    "lcap2=line3d([abrf1,cap2],color='violet')\n",
    "lcap3=line3d([ablf2,cap3],color='violet')\n",
    "lcap4=line3d([abrf2,cap4],color='violet')\n",
    "lcp12=line3d([cap1,cap2],color='olive')\n",
    "lcp23=line3d([cap3,cap4],color='olive')\n",
    "gcap=lcap1+lcap2+lcap3+lcap4+lcp12+lcp23\n",
    "#common perpendicular\n",
    "lr1n2=line3d([r_1i,cr2i],radius=2,color='pink')\n",
    "#platform center to the distal common perpendicular intersection point\n",
    "lrn2pm=line3d([cr2i,napm],radius=2,color='pink')\n",
    "#vector subtalar axis representation\n",
    "wn2=w2*rotate_arbitrary(w1,th1*pi/180)\n",
    "gwn2=arrow3d(cr2i,cr2i+50*wn2,radius=1,color='orange')\n",
    "#ankle serial kinematics\n",
    "ncab=lor1i+lbf1+lbf2+gw1+gwn2+btor+ncon+gcap+lr1n2+lrn2pm+grse+radiusmax\n",
    "ngc=ncab+xyzax(-50,50,-50,50,-50,50)\n",
    "# ngc.show(viewer='threejs',figsize=[24,24],perspective='orthogonal',zoom=1.5,**kw)\n",
    "# ngc.show(viewer='tachyon', \n",
    "#           figsize=[20,20], # the image resolution is 100 figsize \n",
    "#           camera_position=[4, 5, 3.8], # a distant camera position combined with \n",
    "#           zoom=3.4, # a large zoom factor will decrease perspective distortion.  \n",
    "#           viewdir=(-4.1,-5.1,-4), # slightly off-center\n",
    "#           frame=false,\n",
    "#           axes = false,\n",
    "#           aspect_ratio=[1,1,1],)"
   ]
  },
  {
   "cell_type": "code",
   "execution_count": 328,
   "metadata": {},
   "outputs": [
    {
     "name": "stdout",
     "output_type": "stream",
     "text": [
      "lengths: 133.02 219.41 182.69 168.58\n"
     ]
    }
   ],
   "source": [
    "#cable lenghts\n",
    "lc1=norm(cap1-ablf1)\n",
    "lc2=norm(cap2-abrf1)\n",
    "lc3=norm(cap3-ablf2)\n",
    "lc4=norm(cap4-abrf2)\n",
    "print(\"lengths:\",lc1.n(digits=5),lc2.n(digits=5),lc3.n(digits=5),lc4.n(digits=5))\n",
    "#sphere representation\n",
    "spc1=sphere(ablf1,lc1,opacity=0.2)\n",
    "spc2=sphere(abrf1,lc2,opacity=0.2)\n",
    "spc3=sphere(ablf2,lc3,opacity=0.2)\n",
    "spc4=sphere(abrf2,lc4,opacity=0.2)\n",
    "spcb=spc1+spc2+spc3+spc4\n",
    "dirkin=spcb+ngc\n",
    "# dirkin"
   ]
  },
  {
   "cell_type": "markdown",
   "metadata": {},
   "source": [
    "## Prepare Data for Mujoco Simulator Initial Position\n",
    "The units are in meters, also all points are rotated for horizontal representation and gravity response. We translate mm to cm."
   ]
  },
  {
   "cell_type": "code",
   "execution_count": 329,
   "metadata": {},
   "outputs": [
    {
     "name": "stdout",
     "output_type": "stream",
     "text": [
      "reference: 5.938405e-19 -0.09110710 17.62735\n"
     ]
    }
   ],
   "source": [
    "#structure positive values for Mujoco simulator scaled to cm\n",
    "rfp=(rotate_arbitrary([0,1,0],pi/2)*POi-PM0)/10\n",
    "print(\"reference:\",rfp[0].n(digits=7),rfp[1].n(digits=7),rfp[2].n(digits=7))"
   ]
  },
  {
   "cell_type": "code",
   "execution_count": 330,
   "metadata": {},
   "outputs": [
    {
     "name": "stdout",
     "output_type": "stream",
     "text": [
      "base cylinder fromto:  -0.4000000 -0.09110710 17.62735 5.938405e-19 -0.09110710 17.62735 size: 12.0325920000000\n"
     ]
    }
   ],
   "source": [
    "cylh=vector([0,0,4])\n",
    "basem=(rotate_arbitrary([0,1,0],pi/2)*(POi+cylh)-PM0)/10\n",
    "print(\"base cylinder fromto: \",basem[0].n(digits=7),basem[1].n(digits=7),basem[2].n(digits=7),\n",
    "      rfp[0].n(digits=7),rfp[1].n(digits=7),rfp[2].n(digits=7),\"size:\",rbr/10)"
   ]
  },
  {
   "cell_type": "code",
   "execution_count": 331,
   "metadata": {},
   "outputs": [
    {
     "name": "stdout",
     "output_type": "stream",
     "text": [
      "b1: -6.093131e-16 6.659522 7.666812\n"
     ]
    }
   ],
   "source": [
    "#base attaching points positive values for Mujoco simulator scaled to cm\n",
    "Pbl1=(rotate_arbitrary([0,1,0],pi/2)*ablf1-PM0)/10\n",
    "print(\"b1:\",Pbl1[0].n(digits=7),Pbl1[1].n(digits=7),Pbl1[2].n(digits=7))     "
   ]
  },
  {
   "cell_type": "code",
   "execution_count": 332,
   "metadata": {
    "scrolled": true
   },
   "outputs": [
    {
     "name": "stdout",
     "output_type": "stream",
     "text": [
      "b2: 6.105008e-16 -6.841736 27.58788\n"
     ]
    }
   ],
   "source": [
    "Pbr1=(rotate_arbitrary([0,1,0],pi/2)*abrf1-PM0)/10\n",
    "print(\"b2:\",Pbr1[0].n(digits=7),Pbr1[1].n(digits=7),Pbr1[2].n(digits=7))   "
   ]
  },
  {
   "cell_type": "code",
   "execution_count": 333,
   "metadata": {},
   "outputs": [
    {
     "name": "stdout",
     "output_type": "stream",
     "text": [
      "b3: 4.139506e-16 9.869429 24.37798\n"
     ]
    }
   ],
   "source": [
    "Pbl2=(rotate_arbitrary([0,1,0],pi/2)*ablf2-PM0)/10\n",
    "print(\"b3:\",Pbl2[0].n(digits=7),Pbl2[1].n(digits=7),Pbl2[2].n(digits=7))   "
   ]
  },
  {
   "cell_type": "code",
   "execution_count": 334,
   "metadata": {},
   "outputs": [
    {
     "name": "stdout",
     "output_type": "stream",
     "text": [
      "b4: -4.127630e-16 -10.05164 10.87672\n"
     ]
    }
   ],
   "source": [
    "Pbr2=(rotate_arbitrary([0,1,0],pi/2)*abrf2-PM0)/10\n",
    "print(\"b4:\",Pbr2[0].n(digits=7),Pbr2[1].n(digits=7),Pbr2[2].n(digits=7))   "
   ]
  },
  {
   "cell_type": "code",
   "execution_count": 335,
   "metadata": {},
   "outputs": [
    {
     "name": "stdout",
     "output_type": "stream",
     "text": [
      "leg capsule fromto: 5.938405e-19 -0.09110710 17.62735 10.84427 -0.1037934 17.62868\n",
      "shnk pos: 10.84427 -0.1037934 17.62868\n"
     ]
    }
   ],
   "source": [
    "#structure positive values for Mujoco simulator scaled to cm\n",
    "Pr1=(rotate_arbitrary([0,1,0],pi/2)*r_1i-PM0)/10\n",
    "print(\"leg capsule fromto:\",rfp[0].n(digits=7),rfp[1].n(digits=7),rfp[2].n(digits=7),\n",
    "      Pr1[0].n(digits=7),Pr1[1].n(digits=7),Pr1[2].n(digits=7))\n",
    "print(\"shnk pos:\",Pr1[0].n(digits=7),Pr1[1].n(digits=7),Pr1[2].n(digits=7))"
   ]
  },
  {
   "cell_type": "code",
   "execution_count": 336,
   "metadata": {},
   "outputs": [
    {
     "name": "stdout",
     "output_type": "stream",
     "text": [
      "comp capsule fromto: 10.84427 -0.1037934 17.62868 11.19642 -0.01170672 17.90907\n"
     ]
    }
   ],
   "source": [
    "Pr2=(rotate_arbitrary([0,1,0],pi/2)*r_2i-PM0)/10\n",
    "print(\"comp capsule fromto:\",Pr1[0].n(digits=7),Pr1[1].n(digits=7),Pr1[2].n(digits=7),\n",
    "      Pr2[0].n(digits=7),Pr2[1].n(digits=7),Pr2[2].n(digits=7))"
   ]
  },
  {
   "cell_type": "code",
   "execution_count": 337,
   "metadata": {},
   "outputs": [
    {
     "name": "stdout",
     "output_type": "stream",
     "text": [
      "TC hinge pos: 10.84427 -0.1037934 17.62868 axis: -0.1740000 0.9790000 -0.1030000\n"
     ]
    }
   ],
   "source": [
    "Pw1=(rotate_arbitrary([0,1,0],pi/2))*w1\n",
    "print(\"TC hinge pos:\",Pr1[0].n(digits=7),Pr1[1].n(digits=7),Pr1[2].n(digits=7),\n",
    "      \"axis:\",Pw1[0].n(digits=7),Pw1[1].n(digits=7),Pw1[2].n(digits=7))"
   ]
  },
  {
   "cell_type": "code",
   "execution_count": 338,
   "metadata": {},
   "outputs": [
    {
     "name": "stdout",
     "output_type": "stream",
     "text": [
      "b-foot capsule fromto: 11.19642 -0.01170672 17.90907 17.61765 -0.09110710 17.62735\n"
     ]
    }
   ],
   "source": [
    "PPM=(rotate_arbitrary([0,1,0],pi/2)*PMi-PM0)/10\n",
    "print(\"b-foot capsule fromto:\",Pr2[0].n(digits=7),Pr2[1].n(digits=7),Pr2[2].n(digits=7),\n",
    "      PPM[0].n(digits=7),PPM[1].n(digits=7),PPM[2].n(digits=7))"
   ]
  },
  {
   "cell_type": "code",
   "execution_count": 339,
   "metadata": {},
   "outputs": [
    {
     "name": "stdout",
     "output_type": "stream",
     "text": [
      "ST hinge pos: 11.19642 -0.01170672 17.90907 axis -0.6420000 0.2080000 0.7380000\n"
     ]
    }
   ],
   "source": [
    "Pw2=(rotate_arbitrary([0,1,0],pi/2))*w2\n",
    "print(\"ST hinge pos:\",Pr2[0].n(digits=7),Pr2[1].n(digits=7),Pr2[2].n(digits=7),\n",
    "      \"axis\",Pw2[0].n(digits=7),Pw2[1].n(digits=7),Pw2[2].n(digits=7))"
   ]
  },
  {
   "cell_type": "code",
   "execution_count": 340,
   "metadata": {},
   "outputs": [
    {
     "name": "stdout",
     "output_type": "stream",
     "text": [
      "ptfm cylinder fromto: 17.61765 -0.09110710 17.627 18.01765 -0.09110710 17.62735 size: 9.25584000000000\n"
     ]
    }
   ],
   "source": [
    "PPMb=(rotate_arbitrary([0,1,0],pi/2)*(PMi-cylh)-PM0)/10\n",
    "print(\"ptfm cylinder fromto:\",PPM[0].n(digits=7),PPM[1].n(digits=7),PPM[2].n(digits=5),\n",
    "      PPMb[0].n(digits=7),PPMb[1].n(digits=7),PPMb[2].n(digits=7),\"size:\",rpr/10)"
   ]
  },
  {
   "cell_type": "code",
   "execution_count": 341,
   "metadata": {},
   "outputs": [
    {
     "name": "stdout",
     "output_type": "stream",
     "text": [
      "a-foot refpos: -10.84427 0.1037934 -17.62868\n"
     ]
    }
   ],
   "source": [
    "print(\"a-foot refpos:\",-Pr1[0].n(digits=7),-Pr1[1].n(digits=7),-Pr1[2].n(digits=7))"
   ]
  },
  {
   "cell_type": "code",
   "execution_count": 342,
   "metadata": {},
   "outputs": [
    {
     "name": "stdout",
     "output_type": "stream",
     "text": [
      "p1: 17.61765 5.101684 9.965397\n"
     ]
    }
   ],
   "source": [
    "#platform attaching points positive values for Mujoco and Opensim simulators scaled to cm\n",
    "Ppl1=(rotate_arbitrary([0,1,0],pi/2)*aplf1-PM0)/10\n",
    "print(\"p1:\",Ppl1[0].n(digits=7),Ppl1[1].n(digits=7),Ppl1[2].n(digits=7))      "
   ]
  },
  {
   "cell_type": "code",
   "execution_count": 343,
   "metadata": {},
   "outputs": [
    {
     "name": "stdout",
     "output_type": "stream",
     "text": [
      "p2: 17.61765 -5.283899 25.28930\n"
     ]
    }
   ],
   "source": [
    "Ppr1=(rotate_arbitrary([0,1,0],pi/2)*aprf1-PM0)/10\n",
    "print(\"p2:\",Ppr1[0].n(digits=7),Ppr1[1].n(digits=7),Ppr1[2].n(digits=7))  "
   ]
  },
  {
   "cell_type": "code",
   "execution_count": 344,
   "metadata": {},
   "outputs": [
    {
     "name": "stdout",
     "output_type": "stream",
     "text": [
      "p3: 17.61765 7.570844 22.82014\n"
     ]
    }
   ],
   "source": [
    "Ppl2=(rotate_arbitrary([0,1,0],pi/2)*aplf2-PM0)/10\n",
    "print(\"p3:\",Ppl2[0].n(digits=7),Ppl2[1].n(digits=7),Ppl2[2].n(digits=7))"
   ]
  },
  {
   "cell_type": "code",
   "execution_count": 345,
   "metadata": {},
   "outputs": [
    {
     "name": "stdout",
     "output_type": "stream",
     "text": [
      "p4: 17.61765 -7.753058 12.43456\n"
     ]
    }
   ],
   "source": [
    "Ppr2=(rotate_arbitrary([0,1,0],pi/2)*aprf2-PM0)/10\n",
    "print(\"p4:\",Ppr2[0].n(digits=7),Ppr2[1].n(digits=7),Ppr2[2].n(digits=7))  "
   ]
  },
  {
   "cell_type": "code",
   "execution_count": 346,
   "metadata": {},
   "outputs": [
    {
     "name": "stdout",
     "output_type": "stream",
     "text": [
      "t1 range: 17.83503 17.83513\n"
     ]
    }
   ],
   "source": [
    "#cable lenghts for Mujoco simulator scaled to cm\n",
    "print(\"t1 range:\",0.1*(ilc1-0.001).n(digits=7),0.1*ilc1.n(digits=7))"
   ]
  },
  {
   "cell_type": "code",
   "execution_count": 347,
   "metadata": {},
   "outputs": [
    {
     "name": "stdout",
     "output_type": "stream",
     "text": [
      "t2 range: 17.83503 17.83513\n"
     ]
    }
   ],
   "source": [
    "print(\"t2 range:\",0.1*(ilc2-0.001).n(digits=7),0.1*ilc2.n(digits=7))"
   ]
  },
  {
   "cell_type": "code",
   "execution_count": 348,
   "metadata": {},
   "outputs": [
    {
     "name": "stdout",
     "output_type": "stream",
     "text": [
      "t3 range: 17.83503 17.83513\n"
     ]
    }
   ],
   "source": [
    "print(\"t3 range:\",0.1*(ilc3-0.001).n(digits=7),0.1*ilc3.n(digits=7))"
   ]
  },
  {
   "cell_type": "code",
   "execution_count": 349,
   "metadata": {},
   "outputs": [
    {
     "name": "stdout",
     "output_type": "stream",
     "text": [
      "t4 range: 17.83503 17.83513\n"
     ]
    }
   ],
   "source": [
    "print(\"t4 range:\",0.1*(ilc4-0.001).n(digits=7),0.1*ilc4.n(digits=7))"
   ]
  },
  {
   "cell_type": "markdown",
   "metadata": {},
   "source": [
    "## Reconfiguration and Data for Mujoco Statics Simulation\n",
    "In this section, we change the angles to compute the new configuration and the cable lenghts. The base, the leg, and shank are the same. The common perpendicular segment, the TC axis, the platform, the foot capsule, the foot mesh and the attaching points must be changed to a new position."
   ]
  },
  {
   "cell_type": "code",
   "execution_count": 350,
   "metadata": {},
   "outputs": [
    {
     "name": "stdout",
     "output_type": "stream",
     "text": [
      "t1 range: 13.3005 13.3015\n"
     ]
    }
   ],
   "source": [
    "#cable lenghts for Mujoco simulator scaled to cm\n",
    "slc1=lc1/10\n",
    "print(\"t1 range:\",(slc1-0.001).n(digits=6),slc1.n(digits=6))"
   ]
  },
  {
   "cell_type": "code",
   "execution_count": 351,
   "metadata": {},
   "outputs": [
    {
     "name": "stdout",
     "output_type": "stream",
     "text": [
      "t2 range: 21.9404 21.9414\n"
     ]
    }
   ],
   "source": [
    "slc2=lc2/10\n",
    "print(\"t2 range:\",(slc2-0.001).n(digits=6),slc2.n(digits=6))"
   ]
  },
  {
   "cell_type": "code",
   "execution_count": 352,
   "metadata": {},
   "outputs": [
    {
     "name": "stdout",
     "output_type": "stream",
     "text": [
      "t3 range: 18.2678 18.2688\n"
     ]
    }
   ],
   "source": [
    "slc3=lc3/10\n",
    "print(\"t3 range:\",(slc3-0.001).n(digits=6),slc3.n(digits=6))"
   ]
  },
  {
   "cell_type": "code",
   "execution_count": 353,
   "metadata": {},
   "outputs": [
    {
     "name": "stdout",
     "output_type": "stream",
     "text": [
      "t4 range: 16.8570 16.8580\n"
     ]
    }
   ],
   "source": [
    "slc4=lc4/10\n",
    "print(\"t4 range:\",(slc4-0.001).n(digits=6),slc4.n(digits=6))"
   ]
  },
  {
   "cell_type": "code",
   "execution_count": null,
   "metadata": {},
   "outputs": [],
   "source": []
  },
  {
   "cell_type": "code",
   "execution_count": null,
   "metadata": {},
   "outputs": [],
   "source": []
  }
 ],
 "metadata": {
  "kernelspec": {
   "display_name": "SageMath 9.8",
   "language": "sage",
   "name": "sagemath"
  },
  "language_info": {
   "codemirror_mode": {
    "name": "ipython",
    "version": 3
   },
   "file_extension": ".py",
   "mimetype": "text/x-python",
   "name": "python",
   "nbconvert_exporter": "python",
   "pygments_lexer": "ipython3",
   "version": "3.10.10"
  },
  "widgets": {
   "application/vnd.jupyter.widget-state+json": {
    "state": {},
    "version_major": 2,
    "version_minor": 0
   }
  }
 },
 "nbformat": 4,
 "nbformat_minor": 4
}
